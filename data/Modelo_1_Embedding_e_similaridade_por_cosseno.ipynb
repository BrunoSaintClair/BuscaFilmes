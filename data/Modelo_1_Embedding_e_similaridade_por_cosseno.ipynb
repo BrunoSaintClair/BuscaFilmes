{
  "cells": [
    {
      "cell_type": "markdown",
      "source": [
        "## O programa a seguir trata-se de um algoritmo de recomendação de filmes.\n",
        "\n",
        "\n",
        "## Para fazer a recomendação ele utiliza embedding, representando textos como vetores numéricos, e similaridade por cosseno, para calcular a similaridade entre os vetores gerados.\n",
        "\n",
        "## O algoritmo é `content based filtering`, ou seja, utiliza-se do conteúdo dos filmes(título, sinopse, palavras-chave e gêneros) para descobrir semelhantes."
      ],
      "metadata": {
        "id": "f6DMdrYMuluG"
      }
    },
    {
      "cell_type": "code",
<<<<<<< HEAD
      "execution_count": 79,
=======
      "execution_count": 28,
>>>>>>> 47d5486 (:wrench: build: obtendo os dados dos filmes e criando app Movies)
      "metadata": {
        "id": "HWDWHJqO5Krs"
      },
      "outputs": [],
      "source": [
        "import pandas as pd\n",
        "import numpy as np"
      ]
    },
    {
      "cell_type": "code",
<<<<<<< HEAD
      "execution_count": 80,
=======
      "execution_count": 29,
>>>>>>> 47d5486 (:wrench: build: obtendo os dados dos filmes e criando app Movies)
      "metadata": {
        "id": "CJdPkpkv7NWQ"
      },
      "outputs": [],
      "source": [
        "# Link dataset:\n",
        "# https://www.kaggle.com/datasets/asaniczka/tmdb-movies-dataset-2023-930k-movies\n",
        "\n",
        "df = pd.read_csv(\"/content/drive/MyDrive/TMDB_movie_dataset_v11.csv\")"
      ]
    },
    {
      "cell_type": "code",
<<<<<<< HEAD
      "execution_count": 81,
=======
      "execution_count": 30,
>>>>>>> 47d5486 (:wrench: build: obtendo os dados dos filmes e criando app Movies)
      "metadata": {
        "id": "qASLaHgK7SyJ"
      },
      "outputs": [],
      "source": [
        "# display(df.info())\n",
        "# display(df.head(3))"
      ]
    },
    {
      "cell_type": "markdown",
      "source": [
        "### Filtrando os dados e deixando apenas as colunas desejadas:\n"
      ],
      "metadata": {
        "id": "dO0MeEcZuL0g"
      }
    },
    {
      "cell_type": "code",
<<<<<<< HEAD
      "execution_count": 82,
=======
      "execution_count": 31,
>>>>>>> 47d5486 (:wrench: build: obtendo os dados dos filmes e criando app Movies)
      "metadata": {
        "id": "dwGK0Lj-7eQE"
      },
      "outputs": [],
      "source": [
        "df = df[[\"title\", \"vote_average\", \"vote_count\", \"overview\", \"genres\", \"keywords\", \"runtime\"]]\n",
        "\n",
        "df['title'] = df['title'].drop_duplicates()\n",
        "\n",
        "df.dropna(subset=[\n",
        "    \"title\", \"overview\", \"genres\", \"keywords\"], how=\"any\", inplace=True)\n",
        "\n",
<<<<<<< HEAD
        "df.query(\"vote_count >= 250\", inplace=True)"
=======
        "df.query(\"vote_count >= 300\", inplace=True)"
>>>>>>> 47d5486 (:wrench: build: obtendo os dados dos filmes e criando app Movies)
      ]
    },
    {
      "cell_type": "code",
<<<<<<< HEAD
      "execution_count": 83,
=======
      "execution_count": 32,
>>>>>>> 47d5486 (:wrench: build: obtendo os dados dos filmes e criando app Movies)
      "metadata": {
        "colab": {
          "base_uri": "https://localhost:8080/",
          "height": 284
        },
        "id": "MKQgKV_iK380",
<<<<<<< HEAD
        "outputId": "c480c7e5-2dce-43f5-a763-434d5af4003b"
=======
        "outputId": "bc581344-d51c-4e79-9da6-11de1c6a133f"
>>>>>>> 47d5486 (:wrench: build: obtendo os dados dos filmes e criando app Movies)
      },
      "outputs": [
        {
          "output_type": "stream",
          "name": "stdout",
          "text": [
            "<class 'pandas.core.frame.DataFrame'>\n",
<<<<<<< HEAD
            "Index: 9367 entries, 0 to 10182\n",
            "Data columns (total 7 columns):\n",
            " #   Column        Non-Null Count  Dtype  \n",
            "---  ------        --------------  -----  \n",
            " 0   title         9367 non-null   object \n",
            " 1   vote_average  9367 non-null   float64\n",
            " 2   vote_count    9367 non-null   int64  \n",
            " 3   overview      9367 non-null   object \n",
            " 4   genres        9367 non-null   object \n",
            " 5   keywords      9367 non-null   object \n",
            " 6   runtime       9367 non-null   int64  \n",
            "dtypes: float64(1), int64(2), object(4)\n",
            "memory usage: 585.4+ KB\n"
=======
            "Index: 8372 entries, 0 to 8985\n",
            "Data columns (total 7 columns):\n",
            " #   Column        Non-Null Count  Dtype  \n",
            "---  ------        --------------  -----  \n",
            " 0   title         8372 non-null   object \n",
            " 1   vote_average  8372 non-null   float64\n",
            " 2   vote_count    8372 non-null   int64  \n",
            " 3   overview      8372 non-null   object \n",
            " 4   genres        8372 non-null   object \n",
            " 5   keywords      8372 non-null   object \n",
            " 6   runtime       8372 non-null   int64  \n",
            "dtypes: float64(1), int64(2), object(4)\n",
            "memory usage: 523.2+ KB\n"
>>>>>>> 47d5486 (:wrench: build: obtendo os dados dos filmes e criando app Movies)
          ]
        },
        {
          "output_type": "display_data",
          "data": {
            "text/plain": [
              "None"
            ]
          },
          "metadata": {}
        }
      ],
      "source": [
        "display(df.info())"
      ]
    },
    {
      "cell_type": "markdown",
      "source": [
        "### Deixando a nota média no formato desejado e criando uma nova coluna contendo os dados que serão usados posteriormente:"
      ],
      "metadata": {
        "id": "MfpYi9FsuZwH"
      }
    },
    {
      "cell_type": "code",
<<<<<<< HEAD
      "execution_count": 84,
=======
      "execution_count": 33,
>>>>>>> 47d5486 (:wrench: build: obtendo os dados dos filmes e criando app Movies)
      "metadata": {
        "colab": {
          "base_uri": "https://localhost:8080/",
          "height": 195
        },
        "id": "OFJIAWZed6Y6",
<<<<<<< HEAD
        "outputId": "6a19cb61-a4f7-4595-b4a4-8c9722181bb7"
=======
        "outputId": "c8d8c662-c365-4fcc-d292-f2ca8fcb9a0e"
>>>>>>> 47d5486 (:wrench: build: obtendo os dados dos filmes e criando app Movies)
      },
      "outputs": [
        {
          "output_type": "execute_result",
          "data": {
            "text/plain": [
              "             title  vote_average  vote_count  \\\n",
              "0        Inception          8.36       34495   \n",
              "1     Interstellar          8.42       32571   \n",
              "2  The Dark Knight          8.51       30619   \n",
              "\n",
              "                                            overview  \\\n",
              "0  Cobb, a skilled thief who commits corporate es...   \n",
              "1  The adventures of a group of explorers who mak...   \n",
              "2  Batman raises the stakes in his war on crime. ...   \n",
              "\n",
              "                               genres  \\\n",
              "0  Action, Science Fiction, Adventure   \n",
              "1   Adventure, Drama, Science Fiction   \n",
              "2      Drama, Action, Crime, Thriller   \n",
              "\n",
              "                                            keywords  runtime  \\\n",
              "0  rescue, mission, dream, airplane, paris, franc...      148   \n",
              "1  rescue, future, spacecraft, race against time,...      169   \n",
              "2  joker, sadism, chaos, secret identity, crime f...      152   \n",
              "\n",
              "                                                info  \n",
              "0  Inception | Cobb, a skilled thief who commits ...  \n",
              "1  Interstellar | The adventures of a group of ex...  \n",
              "2  The Dark Knight | Batman raises the stakes in ...  "
            ],
            "text/html": [
              "\n",
<<<<<<< HEAD
              "  <div id=\"df-a829ed62-1156-47bf-8f62-3e8813dfa480\" class=\"colab-df-container\">\n",
=======
              "  <div id=\"df-9ae3db79-82f2-448a-80c9-02f90f503da0\" class=\"colab-df-container\">\n",
>>>>>>> 47d5486 (:wrench: build: obtendo os dados dos filmes e criando app Movies)
              "    <div>\n",
              "<style scoped>\n",
              "    .dataframe tbody tr th:only-of-type {\n",
              "        vertical-align: middle;\n",
              "    }\n",
              "\n",
              "    .dataframe tbody tr th {\n",
              "        vertical-align: top;\n",
              "    }\n",
              "\n",
              "    .dataframe thead th {\n",
              "        text-align: right;\n",
              "    }\n",
              "</style>\n",
              "<table border=\"1\" class=\"dataframe\">\n",
              "  <thead>\n",
              "    <tr style=\"text-align: right;\">\n",
              "      <th></th>\n",
              "      <th>title</th>\n",
              "      <th>vote_average</th>\n",
              "      <th>vote_count</th>\n",
              "      <th>overview</th>\n",
              "      <th>genres</th>\n",
              "      <th>keywords</th>\n",
              "      <th>runtime</th>\n",
              "      <th>info</th>\n",
              "    </tr>\n",
              "  </thead>\n",
              "  <tbody>\n",
              "    <tr>\n",
              "      <th>0</th>\n",
              "      <td>Inception</td>\n",
              "      <td>8.36</td>\n",
              "      <td>34495</td>\n",
              "      <td>Cobb, a skilled thief who commits corporate es...</td>\n",
              "      <td>Action, Science Fiction, Adventure</td>\n",
              "      <td>rescue, mission, dream, airplane, paris, franc...</td>\n",
              "      <td>148</td>\n",
              "      <td>Inception | Cobb, a skilled thief who commits ...</td>\n",
              "    </tr>\n",
              "    <tr>\n",
              "      <th>1</th>\n",
              "      <td>Interstellar</td>\n",
              "      <td>8.42</td>\n",
              "      <td>32571</td>\n",
              "      <td>The adventures of a group of explorers who mak...</td>\n",
              "      <td>Adventure, Drama, Science Fiction</td>\n",
              "      <td>rescue, future, spacecraft, race against time,...</td>\n",
              "      <td>169</td>\n",
              "      <td>Interstellar | The adventures of a group of ex...</td>\n",
              "    </tr>\n",
              "    <tr>\n",
              "      <th>2</th>\n",
              "      <td>The Dark Knight</td>\n",
              "      <td>8.51</td>\n",
              "      <td>30619</td>\n",
              "      <td>Batman raises the stakes in his war on crime. ...</td>\n",
              "      <td>Drama, Action, Crime, Thriller</td>\n",
              "      <td>joker, sadism, chaos, secret identity, crime f...</td>\n",
              "      <td>152</td>\n",
              "      <td>The Dark Knight | Batman raises the stakes in ...</td>\n",
              "    </tr>\n",
              "  </tbody>\n",
              "</table>\n",
              "</div>\n",
              "    <div class=\"colab-df-buttons\">\n",
              "\n",
              "  <div class=\"colab-df-container\">\n",
<<<<<<< HEAD
              "    <button class=\"colab-df-convert\" onclick=\"convertToInteractive('df-57db9bb0-5a5b-4304-b89f-e0fc0925e670')\"\n",
              "    <button class=\"colab-df-convert\" onclick=\"convertToInteractive('df-a829ed62-1156-47bf-8f62-3e8813dfa480')\"\n",
=======
              "    <button class=\"colab-df-convert\" onclick=\"convertToInteractive('df-9ae3db79-82f2-448a-80c9-02f90f503da0')\"\n",
>>>>>>> 47d5486 (:wrench: build: obtendo os dados dos filmes e criando app Movies)
              "            title=\"Convert this dataframe to an interactive table.\"\n",
              "            style=\"display:none;\">\n",
              "\n",
              "  <svg xmlns=\"http://www.w3.org/2000/svg\" height=\"24px\" viewBox=\"0 -960 960 960\">\n",
              "    <path d=\"M120-120v-720h720v720H120Zm60-500h600v-160H180v160Zm220 220h160v-160H400v160Zm0 220h160v-160H400v160ZM180-400h160v-160H180v160Zm440 0h160v-160H620v160ZM180-180h160v-160H180v160Zm440 0h160v-160H620v160Z\"/>\n",
              "  </svg>\n",
              "    </button>\n",
              "\n",
              "  <style>\n",
              "    .colab-df-container {\n",
              "      display:flex;\n",
              "      gap: 12px;\n",
              "    }\n",
              "\n",
              "    .colab-df-convert {\n",
              "      background-color: #E8F0FE;\n",
              "      border: none;\n",
              "      border-radius: 50%;\n",
              "      cursor: pointer;\n",
              "      display: none;\n",
              "      fill: #1967D2;\n",
              "      height: 32px;\n",
              "      padding: 0 0 0 0;\n",
              "      width: 32px;\n",
              "    }\n",
              "\n",
              "    .colab-df-convert:hover {\n",
              "      background-color: #E2EBFA;\n",
              "      box-shadow: 0px 1px 2px rgba(60, 64, 67, 0.3), 0px 1px 3px 1px rgba(60, 64, 67, 0.15);\n",
              "      fill: #174EA6;\n",
              "    }\n",
              "\n",
              "    .colab-df-buttons div {\n",
              "      margin-bottom: 4px;\n",
              "    }\n",
              "\n",
              "    [theme=dark] .colab-df-convert {\n",
              "      background-color: #3B4455;\n",
              "      fill: #D2E3FC;\n",
              "    }\n",
              "\n",
              "    [theme=dark] .colab-df-convert:hover {\n",
              "      background-color: #434B5C;\n",
              "      box-shadow: 0px 1px 3px 1px rgba(0, 0, 0, 0.15);\n",
              "      filter: drop-shadow(0px 1px 2px rgba(0, 0, 0, 0.3));\n",
              "      fill: #FFFFFF;\n",
              "    }\n",
              "  </style>\n",
              "\n",
              "    <script>\n",
              "      const buttonEl =\n",
<<<<<<< HEAD
<<<<<<< HEAD
              "        document.querySelector('#df-57db9bb0-5a5b-4304-b89f-e0fc0925e670 button.colab-df-convert');\n",
=======
              "        document.querySelector('#df-a829ed62-1156-47bf-8f62-3e8813dfa480 button.colab-df-convert');\n",
>>>>>>> 6253581 (:wrench: build: mudança na base de dados e no model Movie)
=======
              "        document.querySelector('#df-9ae3db79-82f2-448a-80c9-02f90f503da0 button.colab-df-convert');\n",
>>>>>>> 47d5486 (:wrench: build: obtendo os dados dos filmes e criando app Movies)
              "      buttonEl.style.display =\n",
              "        google.colab.kernel.accessAllowed ? 'block' : 'none';\n",
              "\n",
              "      async function convertToInteractive(key) {\n",
<<<<<<< HEAD
<<<<<<< HEAD
              "        const element = document.querySelector('#df-57db9bb0-5a5b-4304-b89f-e0fc0925e670');\n",
=======
              "        const element = document.querySelector('#df-a829ed62-1156-47bf-8f62-3e8813dfa480');\n",
>>>>>>> 6253581 (:wrench: build: mudança na base de dados e no model Movie)
=======
              "        const element = document.querySelector('#df-9ae3db79-82f2-448a-80c9-02f90f503da0');\n",
>>>>>>> 47d5486 (:wrench: build: obtendo os dados dos filmes e criando app Movies)
              "        const dataTable =\n",
              "          await google.colab.kernel.invokeFunction('convertToInteractive',\n",
              "                                                    [key], {});\n",
              "        if (!dataTable) return;\n",
              "\n",
              "        const docLinkHtml = 'Like what you see? Visit the ' +\n",
              "          '<a target=\"_blank\" href=https://colab.research.google.com/notebooks/data_table.ipynb>data table notebook</a>'\n",
              "          + ' to learn more about interactive tables.';\n",
              "        element.innerHTML = '';\n",
              "        dataTable['output_type'] = 'display_data';\n",
              "        await google.colab.output.renderOutput(dataTable, element);\n",
              "        const docLink = document.createElement('div');\n",
              "        docLink.innerHTML = docLinkHtml;\n",
              "        element.appendChild(docLink);\n",
              "      }\n",
              "    </script>\n",
              "  </div>\n",
              "\n",
              "\n",
<<<<<<< HEAD
<<<<<<< HEAD
              "<div id=\"df-1d92710d-6dac-47e9-b5c4-df624595bbe3\">\n",
              "  <button class=\"colab-df-quickchart\" onclick=\"quickchart('df-1d92710d-6dac-47e9-b5c4-df624595bbe3')\"\n",
=======
              "<div id=\"df-9a47ae81-e774-45cb-8ec6-9ec7d0854322\">\n",
              "  <button class=\"colab-df-quickchart\" onclick=\"quickchart('df-9a47ae81-e774-45cb-8ec6-9ec7d0854322')\"\n",
>>>>>>> 6253581 (:wrench: build: mudança na base de dados e no model Movie)
=======
              "<div id=\"df-2441e75b-e0ea-4921-a491-25576c5cb29f\">\n",
              "  <button class=\"colab-df-quickchart\" onclick=\"quickchart('df-2441e75b-e0ea-4921-a491-25576c5cb29f')\"\n",
>>>>>>> 47d5486 (:wrench: build: obtendo os dados dos filmes e criando app Movies)
              "            title=\"Suggest charts\"\n",
              "            style=\"display:none;\">\n",
              "\n",
              "<svg xmlns=\"http://www.w3.org/2000/svg\" height=\"24px\"viewBox=\"0 0 24 24\"\n",
              "     width=\"24px\">\n",
              "    <g>\n",
              "        <path d=\"M19 3H5c-1.1 0-2 .9-2 2v14c0 1.1.9 2 2 2h14c1.1 0 2-.9 2-2V5c0-1.1-.9-2-2-2zM9 17H7v-7h2v7zm4 0h-2V7h2v10zm4 0h-2v-4h2v4z\"/>\n",
              "    </g>\n",
              "</svg>\n",
              "  </button>\n",
              "\n",
              "<style>\n",
              "  .colab-df-quickchart {\n",
              "      --bg-color: #E8F0FE;\n",
              "      --fill-color: #1967D2;\n",
              "      --hover-bg-color: #E2EBFA;\n",
              "      --hover-fill-color: #174EA6;\n",
              "      --disabled-fill-color: #AAA;\n",
              "      --disabled-bg-color: #DDD;\n",
              "  }\n",
              "\n",
              "  [theme=dark] .colab-df-quickchart {\n",
              "      --bg-color: #3B4455;\n",
              "      --fill-color: #D2E3FC;\n",
              "      --hover-bg-color: #434B5C;\n",
              "      --hover-fill-color: #FFFFFF;\n",
              "      --disabled-bg-color: #3B4455;\n",
              "      --disabled-fill-color: #666;\n",
              "  }\n",
              "\n",
              "  .colab-df-quickchart {\n",
              "    background-color: var(--bg-color);\n",
              "    border: none;\n",
              "    border-radius: 50%;\n",
              "    cursor: pointer;\n",
              "    display: none;\n",
              "    fill: var(--fill-color);\n",
              "    height: 32px;\n",
              "    padding: 0;\n",
              "    width: 32px;\n",
              "  }\n",
              "\n",
              "  .colab-df-quickchart:hover {\n",
              "    background-color: var(--hover-bg-color);\n",
              "    box-shadow: 0 1px 2px rgba(60, 64, 67, 0.3), 0 1px 3px 1px rgba(60, 64, 67, 0.15);\n",
              "    fill: var(--button-hover-fill-color);\n",
              "  }\n",
              "\n",
              "  .colab-df-quickchart-complete:disabled,\n",
              "  .colab-df-quickchart-complete:disabled:hover {\n",
              "    background-color: var(--disabled-bg-color);\n",
              "    fill: var(--disabled-fill-color);\n",
              "    box-shadow: none;\n",
              "  }\n",
              "\n",
              "  .colab-df-spinner {\n",
              "    border: 2px solid var(--fill-color);\n",
              "    border-color: transparent;\n",
              "    border-bottom-color: var(--fill-color);\n",
              "    animation:\n",
              "      spin 1s steps(1) infinite;\n",
              "  }\n",
              "\n",
              "  @keyframes spin {\n",
              "    0% {\n",
              "      border-color: transparent;\n",
              "      border-bottom-color: var(--fill-color);\n",
              "      border-left-color: var(--fill-color);\n",
              "    }\n",
              "    20% {\n",
              "      border-color: transparent;\n",
              "      border-left-color: var(--fill-color);\n",
              "      border-top-color: var(--fill-color);\n",
              "    }\n",
              "    30% {\n",
              "      border-color: transparent;\n",
              "      border-left-color: var(--fill-color);\n",
              "      border-top-color: var(--fill-color);\n",
              "      border-right-color: var(--fill-color);\n",
              "    }\n",
              "    40% {\n",
              "      border-color: transparent;\n",
              "      border-right-color: var(--fill-color);\n",
              "      border-top-color: var(--fill-color);\n",
              "    }\n",
              "    60% {\n",
              "      border-color: transparent;\n",
              "      border-right-color: var(--fill-color);\n",
              "    }\n",
              "    80% {\n",
              "      border-color: transparent;\n",
              "      border-right-color: var(--fill-color);\n",
              "      border-bottom-color: var(--fill-color);\n",
              "    }\n",
              "    90% {\n",
              "      border-color: transparent;\n",
              "      border-bottom-color: var(--fill-color);\n",
              "    }\n",
              "  }\n",
              "</style>\n",
              "\n",
              "  <script>\n",
              "    async function quickchart(key) {\n",
              "      const quickchartButtonEl =\n",
              "        document.querySelector('#' + key + ' button');\n",
              "      quickchartButtonEl.disabled = true;  // To prevent multiple clicks.\n",
              "      quickchartButtonEl.classList.add('colab-df-spinner');\n",
              "      try {\n",
              "        const charts = await google.colab.kernel.invokeFunction(\n",
              "            'suggestCharts', [key], {});\n",
              "      } catch (error) {\n",
              "        console.error('Error during call to suggestCharts:', error);\n",
              "      }\n",
              "      quickchartButtonEl.classList.remove('colab-df-spinner');\n",
              "      quickchartButtonEl.classList.add('colab-df-quickchart-complete');\n",
              "    }\n",
              "    (() => {\n",
              "      let quickchartButtonEl =\n",
<<<<<<< HEAD
<<<<<<< HEAD
              "        document.querySelector('#df-1d92710d-6dac-47e9-b5c4-df624595bbe3 button');\n",
=======
              "        document.querySelector('#df-9a47ae81-e774-45cb-8ec6-9ec7d0854322 button');\n",
>>>>>>> 6253581 (:wrench: build: mudança na base de dados e no model Movie)
=======
              "        document.querySelector('#df-2441e75b-e0ea-4921-a491-25576c5cb29f button');\n",
>>>>>>> 47d5486 (:wrench: build: obtendo os dados dos filmes e criando app Movies)
              "      quickchartButtonEl.style.display =\n",
              "        google.colab.kernel.accessAllowed ? 'block' : 'none';\n",
              "    })();\n",
              "  </script>\n",
              "</div>\n",
              "\n",
              "    </div>\n",
              "  </div>\n"
            ],
            "application/vnd.google.colaboratory.intrinsic+json": {
              "type": "dataframe",
              "variable_name": "df",
<<<<<<< HEAD
              "summary": "{\n  \"name\": \"df\",\n  \"rows\": 9367,\n  \"fields\": [\n    {\n      \"column\": \"title\",\n      \"properties\": {\n        \"dtype\": \"string\",\n        \"num_unique_values\": 9367,\n        \"samples\": [\n          \"Despicable Me\",\n          \"Maggie's Plan\",\n          \"The Perfect Man\"\n        ],\n        \"semantic_type\": \"\",\n        \"description\": \"\"\n      }\n    },\n    {\n      \"column\": \"vote_average\",\n      \"properties\": {\n        \"dtype\": \"number\",\n        \"std\": 0.7972773177165091,\n        \"min\": 2.1,\n        \"max\": 9.17,\n        \"num_unique_values\": 455,\n        \"samples\": [\n          5.53,\n          7.7,\n          4.94\n        ],\n        \"semantic_type\": \"\",\n        \"description\": \"\"\n      }\n    },\n    {\n      \"column\": \"vote_count\",\n      \"properties\": {\n        \"dtype\": \"number\",\n        \"std\": 2973,\n        \"min\": 250,\n        \"max\": 34495,\n        \"num_unique_values\": 3309,\n        \"samples\": [\n          18730,\n          5615,\n          2839\n        ],\n        \"semantic_type\": \"\",\n        \"description\": \"\"\n      }\n    },\n    {\n      \"column\": \"overview\",\n      \"properties\": {\n        \"dtype\": \"string\",\n        \"num_unique_values\": 9367,\n        \"samples\": [\n          \"Villainous Gru lives up to his reputation as a despicable, deplorable and downright unlikable guy when he hatches a plan to steal the moon from the sky. But he has a tough time staying on task after three orphans land in his care.\",\n          \"Maggie's plan to have a baby on her own is derailed when she falls in love with John, a married man, destroying his volatile marriage to the brilliant and impossible Georgette. But one daughter and three years later, Maggie is out of love and in a quandary: what do you do when you suspect your man and his ex wife are actually perfect for each other?\",\n          \"Holly is tired of moving every time her mom Jean breaks up with yet another second-rate guy. To distract her mother from her latest bad choice, Holly conceives the perfect plan for the perfect man, an imaginary secret admirer who will romance Jean and boost her self-esteem.\"\n        ],\n        \"semantic_type\": \"\",\n        \"description\": \"\"\n      }\n    },\n    {\n      \"column\": \"genres\",\n      \"properties\": {\n        \"dtype\": \"category\",\n        \"num_unique_values\": 2063,\n        \"samples\": [\n          \"Family, History, Drama\",\n          \"Western, Action, Adventure\",\n          \"Family, Adventure, Fantasy\"\n        ],\n        \"semantic_type\": \"\",\n        \"description\": \"\"\n      }\n    },\n    {\n      \"column\": \"keywords\",\n      \"properties\": {\n        \"dtype\": \"string\",\n        \"num_unique_values\": 9237,\n        \"samples\": [\n          \"temple, widow, prime minister, letter, bangkok, thailand, palace, musical, polygamy, buddha, based on play or musical, misunderstanding, single mother, twins, tutor, chopsticks, chakri dynasty, school teacher, barge, sailing ship, pagoda, consort, dowry, malaria, siam\",\n          \"cia, politician, iraq, nuclear scientist, duringcreditsstinger\",\n          \"behind the scenes\"\n        ],\n        \"semantic_type\": \"\",\n        \"description\": \"\"\n      }\n    },\n    {\n      \"column\": \"runtime\",\n      \"properties\": {\n        \"dtype\": \"number\",\n        \"std\": 22,\n        \"min\": 1,\n        \"max\": 366,\n        \"num_unique_values\": 204,\n        \"samples\": [\n          194,\n          154,\n          238\n        ],\n        \"semantic_type\": \"\",\n        \"description\": \"\"\n      }\n    },\n    {\n      \"column\": \"info\",\n      \"properties\": {\n        \"dtype\": \"string\",\n        \"num_unique_values\": 9367,\n        \"samples\": [\n          \"Despicable Me | Villainous Gru lives up to his reputation as a despicable, deplorable and downright unlikable guy when he hatches a plan to steal the moon from the sky. But he has a tough time staying on task after three orphans land in his care. | parent child relationship, orphanage, adoptive father, life's dream, rivalry, ballet, stealing, little girl, orphan, tomboy, intelligent, evil doctor, duringcreditsstinger, supervillain, despicable, illumination, minions | Family, Animation, Comedy\",\n          \"Maggie's Plan | Maggie's plan to have a baby on her own is derailed when she falls in love with John, a married man, destroying his volatile marriage to the brilliant and impossible Georgette. But one daughter and three years later, Maggie is out of love and in a quandary: what do you do when you suspect your man and his ex wife are actually perfect for each other? | new york city, professor, chinatown, intellectual, marriage, anthropology, best friend, university, love affair, brooklyn, new york city, ex-husband ex-wife relationship, older man younger man relationship, wanting a baby, woman director, married life, blended family, adulterous affair, academic, married with children, qu\\u00e9b\\u00e9cois, writing a book, qu\\u00e9bec, canada | Romance, Comedy, Drama\",\n          \"The Perfect Man | Holly is tired of moving every time her mom Jean breaks up with yet another second-rate guy. To distract her mother from her latest bad choice, Holly conceives the perfect plan for the perfect man, an imaginary secret admirer who will romance Jean and boost her self-esteem. | high school, adolescence, mother, e-mail, man woman relationship, romance, single, suitor, matchmaking, teen movie, relationship, single mother, family, secret admirer, online dating, catfishing, perfect man, mother daughter relationship | Comedy, Drama, Family, Romance\"\n        ],\n        \"semantic_type\": \"\",\n        \"description\": \"\"\n      }\n    }\n  ]\n}"
            }
          },
          "metadata": {},
<<<<<<< HEAD
          "execution_count": 51
=======
          "execution_count": 84
>>>>>>> 6253581 (:wrench: build: mudança na base de dados e no model Movie)
=======
              "summary": "{\n  \"name\": \"df\",\n  \"rows\": 8372,\n  \"fields\": [\n    {\n      \"column\": \"title\",\n      \"properties\": {\n        \"dtype\": \"string\",\n        \"num_unique_values\": 8372,\n        \"samples\": [\n          \"Hellraiser: Hellseeker\",\n          \"The Change-Up\",\n          \"Big Fish & Begonia\"\n        ],\n        \"semantic_type\": \"\",\n        \"description\": \"\"\n      }\n    },\n    {\n      \"column\": \"vote_average\",\n      \"properties\": {\n        \"dtype\": \"number\",\n        \"std\": 0.7946347662677878,\n        \"min\": 2.1,\n        \"max\": 9.17,\n        \"num_unique_values\": 447,\n        \"samples\": [\n          5.4,\n          4.52,\n          7.09\n        ],\n        \"semantic_type\": \"\",\n        \"description\": \"\"\n      }\n    },\n    {\n      \"column\": \"vote_count\",\n      \"properties\": {\n        \"dtype\": \"number\",\n        \"std\": 3093,\n        \"min\": 300,\n        \"max\": 34495,\n        \"num_unique_values\": 3259,\n        \"samples\": [\n          2375,\n          13967,\n          4639\n        ],\n        \"semantic_type\": \"\",\n        \"description\": \"\"\n      }\n    },\n    {\n      \"column\": \"overview\",\n      \"properties\": {\n        \"dtype\": \"string\",\n        \"num_unique_values\": 8372,\n        \"samples\": [\n          \"Kirsty Cotton is now all grown up and married. Her memory of the events that took place back at her parent's home and the mental institution have dimmed, but she is still traumatized. A fatal car crash kills Kirsty. Now, her husband finds himself in a strange world full of sexy women, greed and murder, making him believe that he is in hell.\",\n          \"Dave is a married man with two kids and a loving wife, and Mitch is a single man who is at the prime of his sexual life. One fateful night while Mitch and Dave are peeing in a fountain when lightning strikes, they switch bodies.\",\n          \"Beyond the human realm, there is a magical race of beings who control the tides and the changing of the seasons. One of these beings, a young girl named Chun, seeks something more\\u2014she wants to experience the human world! At sixteen, she finally gets her chance and transforms into a dolphin in order to explore the world that has her fascinated. But she soon discovers that it's a dangerous place and nearly gets killed in a vortex. Luckily, her life is spared when a young boy sacrifices himself to save her. Moved by his kindness and courage, she uses magic to bring him back to life only to learn that this power comes at a serious price. On a new adventure, she\\u2019ll have to make her own sacrifices in order to protect his soul until it is ready to return to the human world.\"\n        ],\n        \"semantic_type\": \"\",\n        \"description\": \"\"\n      }\n    },\n    {\n      \"column\": \"genres\",\n      \"properties\": {\n        \"dtype\": \"category\",\n        \"num_unique_values\": 1911,\n        \"samples\": [\n          \"Science Fiction, Adventure, Action, Comedy\",\n          \"Drama, Romance, Science Fiction\",\n          \"Mystery, Action, Drama, Thriller, Crime\"\n        ],\n        \"semantic_type\": \"\",\n        \"description\": \"\"\n      }\n    },\n    {\n      \"column\": \"keywords\",\n      \"properties\": {\n        \"dtype\": \"string\",\n        \"num_unique_values\": 8277,\n        \"samples\": [\n          \"based on novel or book, submarine, cold war, intelligence, u.s. navy, defection, jack ryan, ex military, 1980s, political thriller, nuclear submarine, soviet/russian navy, intelligence service, cia analyst, russian submarine, intelligence analyst\",\n          \"spain, orphanage, spanish civil war (1936-39), gothic horror, ghost, political repression, 1930s, isolated place, supernatural being, ghost child\",\n          \"australia, end of the world, apocalypse\"\n        ],\n        \"semantic_type\": \"\",\n        \"description\": \"\"\n      }\n    },\n    {\n      \"column\": \"runtime\",\n      \"properties\": {\n        \"dtype\": \"number\",\n        \"std\": 22,\n        \"min\": 1,\n        \"max\": 366,\n        \"num_unique_values\": 197,\n        \"samples\": [\n          74,\n          190,\n          122\n        ],\n        \"semantic_type\": \"\",\n        \"description\": \"\"\n      }\n    },\n    {\n      \"column\": \"info\",\n      \"properties\": {\n        \"dtype\": \"string\",\n        \"num_unique_values\": 8372,\n        \"samples\": [\n          \"Hellraiser: Hellseeker | Kirsty Cotton is now all grown up and married. Her memory of the events that took place back at her parent's home and the mental institution have dimmed, but she is still traumatized. A fatal car crash kills Kirsty. Now, her husband finds himself in a strange world full of sexy women, greed and murder, making him believe that he is in hell. | amnesia, supernatural, hallucination, pinhead, memory loss, psychiatry, guilty conscience | Horror, Thriller, Mystery\",\n          \"The Change-Up | Dave is a married man with two kids and a loving wife, and Mitch is a single man who is at the prime of his sexual life. One fateful night while Mitch and Dave are peeing in a fountain when lightning strikes, they switch bodies. | jealousy, chance, change, wish, man change, co-workers relationship, body-swap | Comedy\",\n          \"Big Fish & Begonia | Beyond the human realm, there is a magical race of beings who control the tides and the changing of the seasons. One of these beings, a young girl named Chun, seeks something more\\u2014she wants to experience the human world! At sixteen, she finally gets her chance and transforms into a dolphin in order to explore the world that has her fascinated. But she soon discovers that it's a dangerous place and nearly gets killed in a vortex. Luckily, her life is spared when a young boy sacrifices himself to save her. Moved by his kindness and courage, she uses magic to bring him back to life only to learn that this power comes at a serious price. On a new adventure, she\\u2019ll have to make her own sacrifices in order to protect his soul until it is ready to return to the human world. | self sacrifice, magic, ocean, supernatural, human animal relationship, romance, coming of age, adult animation, anime, non-human protagonist, animal transformation | Animation, Adventure, Fantasy\"\n        ],\n        \"semantic_type\": \"\",\n        \"description\": \"\"\n      }\n    }\n  ]\n}"
            }
          },
          "metadata": {},
          "execution_count": 33
>>>>>>> 47d5486 (:wrench: build: obtendo os dados dos filmes e criando app Movies)
        }
      ],
      "source": [
        "df['vote_average'] = df['vote_average'].round(2)\n",
        "\n",
        "df['info'] = df['title'] + ' | ' + df['overview'] + ' | ' + df['keywords'] + ' | ' + df['genres']\n",
        "\n",
        "df.head(3)"
      ]
    },
    {
      "cell_type": "markdown",
      "source": [
        "### Criando o modelo:"
      ],
      "metadata": {
        "id": "mzuE52U-vEBA"
      }
    },
    {
      "cell_type": "code",
<<<<<<< HEAD
<<<<<<< HEAD
      "execution_count": 52,
=======
      "execution_count": 85,
>>>>>>> 6253581 (:wrench: build: mudança na base de dados e no model Movie)
=======
      "execution_count": 34,
>>>>>>> 47d5486 (:wrench: build: obtendo os dados dos filmes e criando app Movies)
      "metadata": {
        "id": "l4N_6pAYfU_B"
      },
      "outputs": [],
      "source": [
        "from sklearn.feature_extraction.text import TfidfVectorizer\n",
        "from sklearn.metrics.pairwise import cosine_similarity"
      ]
    },
    {
      "cell_type": "code",
      "source": [
        "vectorizer = TfidfVectorizer()\n",
        "\n",
        "info_embedding = vectorizer.fit_transform(df['info'])\n",
        "\n",
        "similarity = cosine_similarity(info_embedding)\n",
        "\n",
        "similarity_df = pd.DataFrame(similarity, index=df['title'], columns=df['title'])\n",
        "display(similarity_df.head())"
      ],
      "metadata": {
        "colab": {
          "base_uri": "https://localhost:8080/",
          "height": 426
        },
        "id": "5eH9_sri5bar",
<<<<<<< HEAD
<<<<<<< HEAD
        "outputId": "629276eb-7125-4c0a-e98f-ea2d4073983e"
      },
      "execution_count": 53,
=======
        "outputId": "5712976f-c45d-4707-e32a-bb06494ca467"
      },
      "execution_count": 86,
>>>>>>> 6253581 (:wrench: build: mudança na base de dados e no model Movie)
=======
        "outputId": "da9c1ab6-3e3c-4678-df2d-a066907529bd"
      },
      "execution_count": 35,
>>>>>>> 47d5486 (:wrench: build: obtendo os dados dos filmes e criando app Movies)
      "outputs": [
        {
          "output_type": "display_data",
          "data": {
            "text/plain": [
              "title            Inception  Interstellar  The Dark Knight    Avatar  \\\n",
              "title                                                                 \n",
<<<<<<< HEAD
              "Inception         1.000000      0.049209         0.024804  0.026550   \n",
              "Interstellar      0.049209      1.000000         0.018085  0.203422   \n",
              "The Dark Knight   0.024804      0.018085         1.000000  0.053400   \n",
              "Avatar            0.026550      0.203422         0.053400  1.000000   \n",
              "The Avengers      0.033862      0.033773         0.076999  0.066328   \n",
              "\n",
              "title            The Avengers  Deadpool  Avengers: Infinity War  Fight Club  \\\n",
              "title                                                                         \n",
              "Inception            0.033862  0.025680                0.043575    0.007578   \n",
              "Interstellar         0.033773  0.019337                0.062163    0.047501   \n",
              "The Dark Knight      0.076999  0.082243                0.084462    0.038041   \n",
              "Avatar               0.066328  0.025596                0.077575    0.013319   \n",
              "The Avengers         1.000000  0.084149                0.223170    0.031656   \n",
              "\n",
              "title            Guardians of the Galaxy  Pulp Fiction  ...  Bugsy Malone  \\\n",
              "title                                                   ...                 \n",
              "Inception                       0.044869      0.028312  ...      0.017102   \n",
              "Interstellar                    0.093304      0.039821  ...      0.012431   \n",
              "The Dark Knight                 0.037645      0.057905  ...      0.022781   \n",
              "Avatar                          0.081839      0.009267  ...      0.026075   \n",
              "The Avengers                    0.205590      0.019440  ...      0.045559   \n",
              "\n",
              "title            The Cincinnati Kid  Hannah Arendt  The In-Laws  \\\n",
              "title                                                             \n",
              "Inception                  0.008027       0.019722     0.028932   \n",
              "Interstellar               0.063113       0.014769     0.049142   \n",
              "The Dark Knight            0.049499       0.037436     0.025515   \n",
              "Avatar                     0.012570       0.014201     0.010597   \n",
              "The Avengers               0.046998       0.040252     0.043739   \n",
              "\n",
              "title            Louis C.K.: Hilarious     Wilde  \\\n",
              "title                                              \n",
              "Inception                     0.013352  0.015065   \n",
              "Interstellar                  0.007523  0.009539   \n",
              "The Dark Knight               0.015024  0.025042   \n",
              "Avatar                        0.033889  0.017293   \n",
              "The Avengers                  0.012270  0.020876   \n",
              "\n",
              "title            Barbie & Her Sisters in the Great Puppy Adventure  \\\n",
              "title                                                                \n",
              "Inception                                                 0.024178   \n",
              "Interstellar                                              0.033879   \n",
              "The Dark Knight                                           0.048279   \n",
              "Avatar                                                    0.033006   \n",
              "The Avengers                                              0.068781   \n",
              "\n",
              "title            Mutant Pumpkins from Outer Space  Ever Been to the Moon?  \\\n",
              "title                                                                       \n",
              "Inception                                0.020476                0.062298   \n",
              "Interstellar                             0.040553                0.054132   \n",
              "The Dark Knight                          0.042558                0.028662   \n",
              "Avatar                                   0.102749                0.057051   \n",
              "The Avengers                             0.064296                0.021941   \n",
              "\n",
              "title            Hunter Hunter  \n",
              "title                           \n",
              "Inception             0.007084  \n",
              "Interstellar          0.017422  \n",
              "The Dark Knight       0.022958  \n",
              "Avatar                0.009513  \n",
              "The Avengers          0.010703  \n",
              "\n",
              "[5 rows x 9367 columns]"
            ],
            "text/html": [
              "\n",
<<<<<<< HEAD
              "  <div id=\"df-6793a4da-93d1-4a0a-a1d8-e27a9815e238\" class=\"colab-df-container\">\n",
=======
              "  <div id=\"df-b1435837-f102-4cab-a4b9-2ddf6abf8113\" class=\"colab-df-container\">\n",
>>>>>>> 6253581 (:wrench: build: mudança na base de dados e no model Movie)
=======
              "Inception         1.000000      0.049095         0.024869  0.026246   \n",
              "Interstellar      0.049095      1.000000         0.018285  0.201595   \n",
              "The Dark Knight   0.024869      0.018285         1.000000  0.053282   \n",
              "Avatar            0.026246      0.201595         0.053282  1.000000   \n",
              "The Avengers      0.033677      0.033848         0.077055  0.066170   \n",
              "\n",
              "title            The Avengers  Deadpool  Avengers: Infinity War  Fight Club  \\\n",
              "title                                                                         \n",
              "Inception            0.033677  0.025745                0.043408    0.007582   \n",
              "Interstellar         0.033848  0.019465                0.061796    0.047502   \n",
              "The Dark Knight      0.077055  0.081957                0.084081    0.038092   \n",
              "Avatar               0.066170  0.025438                0.077079    0.013441   \n",
              "The Avengers         1.000000  0.083409                0.222309    0.031838   \n",
              "\n",
              "title            Guardians of the Galaxy  Pulp Fiction  ...  Surveillance  \\\n",
              "title                                                   ...                 \n",
              "Inception                       0.044382      0.028008  ...      0.021162   \n",
              "Interstellar                    0.092598      0.039855  ...      0.015679   \n",
              "The Dark Knight                 0.037742      0.058177  ...      0.054737   \n",
              "Avatar                          0.081318      0.009313  ...      0.007703   \n",
              "The Avengers                    0.203485      0.019586  ...      0.035674   \n",
              "\n",
              "title            Along for the Ride  Game of Thrones: The Last Watch  \\\n",
              "title                                                                  \n",
              "Inception                  0.015003                         0.039215   \n",
              "Interstellar               0.015194                         0.046305   \n",
              "The Dark Knight            0.042568                         0.063096   \n",
              "Avatar                     0.016030                         0.034300   \n",
              "The Avengers               0.032390                         0.074289   \n",
              "\n",
              "title            Elizabeth Harvest  Birdemic: Shock and Terror  \\\n",
              "title                                                            \n",
              "Inception                 0.013547                    0.018296   \n",
              "Interstellar              0.053634                    0.019223   \n",
              "The Dark Knight           0.018361                    0.038719   \n",
              "Avatar                    0.015112                    0.046162   \n",
              "The Avengers              0.026156                    0.056586   \n",
              "\n",
              "title            Ivan Vasilyevich Changes His Profession  Joe's Apartment  \\\n",
              "title                                                                       \n",
              "Inception                                       0.020006         0.005964   \n",
              "Interstellar                                    0.072836         0.001731   \n",
              "The Dark Knight                                 0.017459         0.010970   \n",
              "Avatar                                          0.025924         0.009186   \n",
              "The Avengers                                    0.024424         0.019895   \n",
              "\n",
              "title            A Futile and Stupid Gesture  The Manual of Love  Aftershock  \n",
              "title                                                                         \n",
              "Inception                           0.007699            0.009209    0.002260  \n",
              "Interstellar                        0.008770            0.017778    0.017247  \n",
              "The Dark Knight                     0.012106            0.028797    0.008658  \n",
              "Avatar                              0.028369            0.042175    0.007095  \n",
              "The Avengers                        0.017441            0.029634    0.043423  \n",
              "\n",
              "[5 rows x 8372 columns]"
            ],
            "text/html": [
              "\n",
              "  <div id=\"df-f63f0348-4147-44e7-ae2e-380c17ab7737\" class=\"colab-df-container\">\n",
>>>>>>> 47d5486 (:wrench: build: obtendo os dados dos filmes e criando app Movies)
              "    <div>\n",
              "<style scoped>\n",
              "    .dataframe tbody tr th:only-of-type {\n",
              "        vertical-align: middle;\n",
              "    }\n",
              "\n",
              "    .dataframe tbody tr th {\n",
              "        vertical-align: top;\n",
              "    }\n",
              "\n",
              "    .dataframe thead th {\n",
              "        text-align: right;\n",
              "    }\n",
              "</style>\n",
              "<table border=\"1\" class=\"dataframe\">\n",
              "  <thead>\n",
              "    <tr style=\"text-align: right;\">\n",
              "      <th>title</th>\n",
              "      <th>Inception</th>\n",
              "      <th>Interstellar</th>\n",
              "      <th>The Dark Knight</th>\n",
              "      <th>Avatar</th>\n",
              "      <th>The Avengers</th>\n",
              "      <th>Deadpool</th>\n",
              "      <th>Avengers: Infinity War</th>\n",
              "      <th>Fight Club</th>\n",
              "      <th>Guardians of the Galaxy</th>\n",
              "      <th>Pulp Fiction</th>\n",
              "      <th>...</th>\n",
<<<<<<< HEAD
              "      <th>Bugsy Malone</th>\n",
              "      <th>The Cincinnati Kid</th>\n",
              "      <th>Hannah Arendt</th>\n",
              "      <th>The In-Laws</th>\n",
              "      <th>Louis C.K.: Hilarious</th>\n",
              "      <th>Wilde</th>\n",
              "      <th>Barbie &amp; Her Sisters in the Great Puppy Adventure</th>\n",
              "      <th>Mutant Pumpkins from Outer Space</th>\n",
              "      <th>Ever Been to the Moon?</th>\n",
              "      <th>Hunter Hunter</th>\n",
=======
              "      <th>Surveillance</th>\n",
              "      <th>Along for the Ride</th>\n",
              "      <th>Game of Thrones: The Last Watch</th>\n",
              "      <th>Elizabeth Harvest</th>\n",
              "      <th>Birdemic: Shock and Terror</th>\n",
              "      <th>Ivan Vasilyevich Changes His Profession</th>\n",
              "      <th>Joe's Apartment</th>\n",
              "      <th>A Futile and Stupid Gesture</th>\n",
              "      <th>The Manual of Love</th>\n",
              "      <th>Aftershock</th>\n",
>>>>>>> 47d5486 (:wrench: build: obtendo os dados dos filmes e criando app Movies)
              "    </tr>\n",
              "    <tr>\n",
              "      <th>title</th>\n",
              "      <th></th>\n",
              "      <th></th>\n",
              "      <th></th>\n",
              "      <th></th>\n",
              "      <th></th>\n",
              "      <th></th>\n",
              "      <th></th>\n",
              "      <th></th>\n",
              "      <th></th>\n",
              "      <th></th>\n",
              "      <th></th>\n",
              "      <th></th>\n",
              "      <th></th>\n",
              "      <th></th>\n",
              "      <th></th>\n",
              "      <th></th>\n",
              "      <th></th>\n",
              "      <th></th>\n",
              "      <th></th>\n",
              "      <th></th>\n",
              "      <th></th>\n",
              "    </tr>\n",
              "  </thead>\n",
              "  <tbody>\n",
              "    <tr>\n",
              "      <th>Inception</th>\n",
              "      <td>1.000000</td>\n",
<<<<<<< HEAD
              "      <td>0.049209</td>\n",
              "      <td>0.024804</td>\n",
              "      <td>0.026550</td>\n",
              "      <td>0.033862</td>\n",
              "      <td>0.025680</td>\n",
              "      <td>0.043575</td>\n",
              "      <td>0.007578</td>\n",
              "      <td>0.044869</td>\n",
              "      <td>0.028312</td>\n",
              "      <td>...</td>\n",
              "      <td>0.017102</td>\n",
              "      <td>0.008027</td>\n",
              "      <td>0.019722</td>\n",
              "      <td>0.028932</td>\n",
              "      <td>0.013352</td>\n",
              "      <td>0.015065</td>\n",
              "      <td>0.024178</td>\n",
              "      <td>0.020476</td>\n",
              "      <td>0.062298</td>\n",
              "      <td>0.007084</td>\n",
              "    </tr>\n",
              "    <tr>\n",
              "      <th>Interstellar</th>\n",
              "      <td>0.049209</td>\n",
              "      <td>1.000000</td>\n",
              "      <td>0.018085</td>\n",
              "      <td>0.203422</td>\n",
              "      <td>0.033773</td>\n",
              "      <td>0.019337</td>\n",
              "      <td>0.062163</td>\n",
              "      <td>0.047501</td>\n",
              "      <td>0.093304</td>\n",
              "      <td>0.039821</td>\n",
              "      <td>...</td>\n",
              "      <td>0.012431</td>\n",
              "      <td>0.063113</td>\n",
              "      <td>0.014769</td>\n",
              "      <td>0.049142</td>\n",
              "      <td>0.007523</td>\n",
              "      <td>0.009539</td>\n",
              "      <td>0.033879</td>\n",
              "      <td>0.040553</td>\n",
              "      <td>0.054132</td>\n",
              "      <td>0.017422</td>\n",
              "    </tr>\n",
              "    <tr>\n",
              "      <th>The Dark Knight</th>\n",
              "      <td>0.024804</td>\n",
              "      <td>0.018085</td>\n",
              "      <td>1.000000</td>\n",
              "      <td>0.053400</td>\n",
              "      <td>0.076999</td>\n",
              "      <td>0.082243</td>\n",
              "      <td>0.084462</td>\n",
              "      <td>0.038041</td>\n",
              "      <td>0.037645</td>\n",
              "      <td>0.057905</td>\n",
              "      <td>...</td>\n",
              "      <td>0.022781</td>\n",
              "      <td>0.049499</td>\n",
              "      <td>0.037436</td>\n",
              "      <td>0.025515</td>\n",
              "      <td>0.015024</td>\n",
              "      <td>0.025042</td>\n",
              "      <td>0.048279</td>\n",
              "      <td>0.042558</td>\n",
              "      <td>0.028662</td>\n",
              "      <td>0.022958</td>\n",
              "    </tr>\n",
              "    <tr>\n",
              "      <th>Avatar</th>\n",
              "      <td>0.026550</td>\n",
              "      <td>0.203422</td>\n",
              "      <td>0.053400</td>\n",
              "      <td>1.000000</td>\n",
              "      <td>0.066328</td>\n",
              "      <td>0.025596</td>\n",
              "      <td>0.077575</td>\n",
              "      <td>0.013319</td>\n",
              "      <td>0.081839</td>\n",
              "      <td>0.009267</td>\n",
              "      <td>...</td>\n",
              "      <td>0.026075</td>\n",
              "      <td>0.012570</td>\n",
              "      <td>0.014201</td>\n",
              "      <td>0.010597</td>\n",
              "      <td>0.033889</td>\n",
              "      <td>0.017293</td>\n",
              "      <td>0.033006</td>\n",
              "      <td>0.102749</td>\n",
              "      <td>0.057051</td>\n",
              "      <td>0.009513</td>\n",
              "    </tr>\n",
              "    <tr>\n",
              "      <th>The Avengers</th>\n",
              "      <td>0.033862</td>\n",
              "      <td>0.033773</td>\n",
              "      <td>0.076999</td>\n",
              "      <td>0.066328</td>\n",
              "      <td>1.000000</td>\n",
              "      <td>0.084149</td>\n",
              "      <td>0.223170</td>\n",
              "      <td>0.031656</td>\n",
              "      <td>0.205590</td>\n",
              "      <td>0.019440</td>\n",
              "      <td>...</td>\n",
              "      <td>0.045559</td>\n",
              "      <td>0.046998</td>\n",
              "      <td>0.040252</td>\n",
              "      <td>0.043739</td>\n",
              "      <td>0.012270</td>\n",
              "      <td>0.020876</td>\n",
              "      <td>0.068781</td>\n",
              "      <td>0.064296</td>\n",
              "      <td>0.021941</td>\n",
              "      <td>0.010703</td>\n",
              "    </tr>\n",
              "  </tbody>\n",
              "</table>\n",
              "<p>5 rows × 9367 columns</p>\n",
=======
              "      <td>0.049095</td>\n",
              "      <td>0.024869</td>\n",
              "      <td>0.026246</td>\n",
              "      <td>0.033677</td>\n",
              "      <td>0.025745</td>\n",
              "      <td>0.043408</td>\n",
              "      <td>0.007582</td>\n",
              "      <td>0.044382</td>\n",
              "      <td>0.028008</td>\n",
              "      <td>...</td>\n",
              "      <td>0.021162</td>\n",
              "      <td>0.015003</td>\n",
              "      <td>0.039215</td>\n",
              "      <td>0.013547</td>\n",
              "      <td>0.018296</td>\n",
              "      <td>0.020006</td>\n",
              "      <td>0.005964</td>\n",
              "      <td>0.007699</td>\n",
              "      <td>0.009209</td>\n",
              "      <td>0.002260</td>\n",
              "    </tr>\n",
              "    <tr>\n",
              "      <th>Interstellar</th>\n",
              "      <td>0.049095</td>\n",
              "      <td>1.000000</td>\n",
              "      <td>0.018285</td>\n",
              "      <td>0.201595</td>\n",
              "      <td>0.033848</td>\n",
              "      <td>0.019465</td>\n",
              "      <td>0.061796</td>\n",
              "      <td>0.047502</td>\n",
              "      <td>0.092598</td>\n",
              "      <td>0.039855</td>\n",
              "      <td>...</td>\n",
              "      <td>0.015679</td>\n",
              "      <td>0.015194</td>\n",
              "      <td>0.046305</td>\n",
              "      <td>0.053634</td>\n",
              "      <td>0.019223</td>\n",
              "      <td>0.072836</td>\n",
              "      <td>0.001731</td>\n",
              "      <td>0.008770</td>\n",
              "      <td>0.017778</td>\n",
              "      <td>0.017247</td>\n",
              "    </tr>\n",
              "    <tr>\n",
              "      <th>The Dark Knight</th>\n",
              "      <td>0.024869</td>\n",
              "      <td>0.018285</td>\n",
              "      <td>1.000000</td>\n",
              "      <td>0.053282</td>\n",
              "      <td>0.077055</td>\n",
              "      <td>0.081957</td>\n",
              "      <td>0.084081</td>\n",
              "      <td>0.038092</td>\n",
              "      <td>0.037742</td>\n",
              "      <td>0.058177</td>\n",
              "      <td>...</td>\n",
              "      <td>0.054737</td>\n",
              "      <td>0.042568</td>\n",
              "      <td>0.063096</td>\n",
              "      <td>0.018361</td>\n",
              "      <td>0.038719</td>\n",
              "      <td>0.017459</td>\n",
              "      <td>0.010970</td>\n",
              "      <td>0.012106</td>\n",
              "      <td>0.028797</td>\n",
              "      <td>0.008658</td>\n",
              "    </tr>\n",
              "    <tr>\n",
              "      <th>Avatar</th>\n",
              "      <td>0.026246</td>\n",
              "      <td>0.201595</td>\n",
              "      <td>0.053282</td>\n",
              "      <td>1.000000</td>\n",
              "      <td>0.066170</td>\n",
              "      <td>0.025438</td>\n",
              "      <td>0.077079</td>\n",
              "      <td>0.013441</td>\n",
              "      <td>0.081318</td>\n",
              "      <td>0.009313</td>\n",
              "      <td>...</td>\n",
              "      <td>0.007703</td>\n",
              "      <td>0.016030</td>\n",
              "      <td>0.034300</td>\n",
              "      <td>0.015112</td>\n",
              "      <td>0.046162</td>\n",
              "      <td>0.025924</td>\n",
              "      <td>0.009186</td>\n",
              "      <td>0.028369</td>\n",
              "      <td>0.042175</td>\n",
              "      <td>0.007095</td>\n",
              "    </tr>\n",
              "    <tr>\n",
              "      <th>The Avengers</th>\n",
              "      <td>0.033677</td>\n",
              "      <td>0.033848</td>\n",
              "      <td>0.077055</td>\n",
              "      <td>0.066170</td>\n",
              "      <td>1.000000</td>\n",
              "      <td>0.083409</td>\n",
              "      <td>0.222309</td>\n",
              "      <td>0.031838</td>\n",
              "      <td>0.203485</td>\n",
              "      <td>0.019586</td>\n",
              "      <td>...</td>\n",
              "      <td>0.035674</td>\n",
              "      <td>0.032390</td>\n",
              "      <td>0.074289</td>\n",
              "      <td>0.026156</td>\n",
              "      <td>0.056586</td>\n",
              "      <td>0.024424</td>\n",
              "      <td>0.019895</td>\n",
              "      <td>0.017441</td>\n",
              "      <td>0.029634</td>\n",
              "      <td>0.043423</td>\n",
              "    </tr>\n",
              "  </tbody>\n",
              "</table>\n",
              "<p>5 rows × 8372 columns</p>\n",
>>>>>>> 47d5486 (:wrench: build: obtendo os dados dos filmes e criando app Movies)
              "</div>\n",
              "    <div class=\"colab-df-buttons\">\n",
              "\n",
              "  <div class=\"colab-df-container\">\n",
<<<<<<< HEAD
<<<<<<< HEAD
              "    <button class=\"colab-df-convert\" onclick=\"convertToInteractive('df-6793a4da-93d1-4a0a-a1d8-e27a9815e238')\"\n",
=======
              "    <button class=\"colab-df-convert\" onclick=\"convertToInteractive('df-b1435837-f102-4cab-a4b9-2ddf6abf8113')\"\n",
>>>>>>> 6253581 (:wrench: build: mudança na base de dados e no model Movie)
=======
              "    <button class=\"colab-df-convert\" onclick=\"convertToInteractive('df-f63f0348-4147-44e7-ae2e-380c17ab7737')\"\n",
>>>>>>> 47d5486 (:wrench: build: obtendo os dados dos filmes e criando app Movies)
              "            title=\"Convert this dataframe to an interactive table.\"\n",
              "            style=\"display:none;\">\n",
              "\n",
              "  <svg xmlns=\"http://www.w3.org/2000/svg\" height=\"24px\" viewBox=\"0 -960 960 960\">\n",
              "    <path d=\"M120-120v-720h720v720H120Zm60-500h600v-160H180v160Zm220 220h160v-160H400v160Zm0 220h160v-160H400v160ZM180-400h160v-160H180v160Zm440 0h160v-160H620v160ZM180-180h160v-160H180v160Zm440 0h160v-160H620v160Z\"/>\n",
              "  </svg>\n",
              "    </button>\n",
              "\n",
              "  <style>\n",
              "    .colab-df-container {\n",
              "      display:flex;\n",
              "      gap: 12px;\n",
              "    }\n",
              "\n",
              "    .colab-df-convert {\n",
              "      background-color: #E8F0FE;\n",
              "      border: none;\n",
              "      border-radius: 50%;\n",
              "      cursor: pointer;\n",
              "      display: none;\n",
              "      fill: #1967D2;\n",
              "      height: 32px;\n",
              "      padding: 0 0 0 0;\n",
              "      width: 32px;\n",
              "    }\n",
              "\n",
              "    .colab-df-convert:hover {\n",
              "      background-color: #E2EBFA;\n",
              "      box-shadow: 0px 1px 2px rgba(60, 64, 67, 0.3), 0px 1px 3px 1px rgba(60, 64, 67, 0.15);\n",
              "      fill: #174EA6;\n",
              "    }\n",
              "\n",
              "    .colab-df-buttons div {\n",
              "      margin-bottom: 4px;\n",
              "    }\n",
              "\n",
              "    [theme=dark] .colab-df-convert {\n",
              "      background-color: #3B4455;\n",
              "      fill: #D2E3FC;\n",
              "    }\n",
              "\n",
              "    [theme=dark] .colab-df-convert:hover {\n",
              "      background-color: #434B5C;\n",
              "      box-shadow: 0px 1px 3px 1px rgba(0, 0, 0, 0.15);\n",
              "      filter: drop-shadow(0px 1px 2px rgba(0, 0, 0, 0.3));\n",
              "      fill: #FFFFFF;\n",
              "    }\n",
              "  </style>\n",
              "\n",
              "    <script>\n",
              "      const buttonEl =\n",
<<<<<<< HEAD
<<<<<<< HEAD
              "        document.querySelector('#df-6793a4da-93d1-4a0a-a1d8-e27a9815e238 button.colab-df-convert');\n",
=======
              "        document.querySelector('#df-b1435837-f102-4cab-a4b9-2ddf6abf8113 button.colab-df-convert');\n",
>>>>>>> 6253581 (:wrench: build: mudança na base de dados e no model Movie)
=======
              "        document.querySelector('#df-f63f0348-4147-44e7-ae2e-380c17ab7737 button.colab-df-convert');\n",
>>>>>>> 47d5486 (:wrench: build: obtendo os dados dos filmes e criando app Movies)
              "      buttonEl.style.display =\n",
              "        google.colab.kernel.accessAllowed ? 'block' : 'none';\n",
              "\n",
              "      async function convertToInteractive(key) {\n",
<<<<<<< HEAD
<<<<<<< HEAD
              "        const element = document.querySelector('#df-6793a4da-93d1-4a0a-a1d8-e27a9815e238');\n",
=======
              "        const element = document.querySelector('#df-b1435837-f102-4cab-a4b9-2ddf6abf8113');\n",
>>>>>>> 6253581 (:wrench: build: mudança na base de dados e no model Movie)
=======
              "        const element = document.querySelector('#df-f63f0348-4147-44e7-ae2e-380c17ab7737');\n",
>>>>>>> 47d5486 (:wrench: build: obtendo os dados dos filmes e criando app Movies)
              "        const dataTable =\n",
              "          await google.colab.kernel.invokeFunction('convertToInteractive',\n",
              "                                                    [key], {});\n",
              "        if (!dataTable) return;\n",
              "\n",
              "        const docLinkHtml = 'Like what you see? Visit the ' +\n",
              "          '<a target=\"_blank\" href=https://colab.research.google.com/notebooks/data_table.ipynb>data table notebook</a>'\n",
              "          + ' to learn more about interactive tables.';\n",
              "        element.innerHTML = '';\n",
              "        dataTable['output_type'] = 'display_data';\n",
              "        await google.colab.output.renderOutput(dataTable, element);\n",
              "        const docLink = document.createElement('div');\n",
              "        docLink.innerHTML = docLinkHtml;\n",
              "        element.appendChild(docLink);\n",
              "      }\n",
              "    </script>\n",
              "  </div>\n",
              "\n",
              "\n",
<<<<<<< HEAD
<<<<<<< HEAD
              "<div id=\"df-9d7e1312-f246-40a4-a5b2-26e77d2df93b\">\n",
              "  <button class=\"colab-df-quickchart\" onclick=\"quickchart('df-9d7e1312-f246-40a4-a5b2-26e77d2df93b')\"\n",
=======
              "<div id=\"df-9357640a-881d-4403-a155-601b0884f7c2\">\n",
              "  <button class=\"colab-df-quickchart\" onclick=\"quickchart('df-9357640a-881d-4403-a155-601b0884f7c2')\"\n",
>>>>>>> 6253581 (:wrench: build: mudança na base de dados e no model Movie)
=======
              "<div id=\"df-c7826232-9a0f-4916-bf2c-b23b7ce1a30b\">\n",
              "  <button class=\"colab-df-quickchart\" onclick=\"quickchart('df-c7826232-9a0f-4916-bf2c-b23b7ce1a30b')\"\n",
>>>>>>> 47d5486 (:wrench: build: obtendo os dados dos filmes e criando app Movies)
              "            title=\"Suggest charts\"\n",
              "            style=\"display:none;\">\n",
              "\n",
              "<svg xmlns=\"http://www.w3.org/2000/svg\" height=\"24px\"viewBox=\"0 0 24 24\"\n",
              "     width=\"24px\">\n",
              "    <g>\n",
              "        <path d=\"M19 3H5c-1.1 0-2 .9-2 2v14c0 1.1.9 2 2 2h14c1.1 0 2-.9 2-2V5c0-1.1-.9-2-2-2zM9 17H7v-7h2v7zm4 0h-2V7h2v10zm4 0h-2v-4h2v4z\"/>\n",
              "    </g>\n",
              "</svg>\n",
              "  </button>\n",
              "\n",
              "<style>\n",
              "  .colab-df-quickchart {\n",
              "      --bg-color: #E8F0FE;\n",
              "      --fill-color: #1967D2;\n",
              "      --hover-bg-color: #E2EBFA;\n",
              "      --hover-fill-color: #174EA6;\n",
              "      --disabled-fill-color: #AAA;\n",
              "      --disabled-bg-color: #DDD;\n",
              "  }\n",
              "\n",
              "  [theme=dark] .colab-df-quickchart {\n",
              "      --bg-color: #3B4455;\n",
              "      --fill-color: #D2E3FC;\n",
              "      --hover-bg-color: #434B5C;\n",
              "      --hover-fill-color: #FFFFFF;\n",
              "      --disabled-bg-color: #3B4455;\n",
              "      --disabled-fill-color: #666;\n",
              "  }\n",
              "\n",
              "  .colab-df-quickchart {\n",
              "    background-color: var(--bg-color);\n",
              "    border: none;\n",
              "    border-radius: 50%;\n",
              "    cursor: pointer;\n",
              "    display: none;\n",
              "    fill: var(--fill-color);\n",
              "    height: 32px;\n",
              "    padding: 0;\n",
              "    width: 32px;\n",
              "  }\n",
              "\n",
              "  .colab-df-quickchart:hover {\n",
              "    background-color: var(--hover-bg-color);\n",
              "    box-shadow: 0 1px 2px rgba(60, 64, 67, 0.3), 0 1px 3px 1px rgba(60, 64, 67, 0.15);\n",
              "    fill: var(--button-hover-fill-color);\n",
              "  }\n",
              "\n",
              "  .colab-df-quickchart-complete:disabled,\n",
              "  .colab-df-quickchart-complete:disabled:hover {\n",
              "    background-color: var(--disabled-bg-color);\n",
              "    fill: var(--disabled-fill-color);\n",
              "    box-shadow: none;\n",
              "  }\n",
              "\n",
              "  .colab-df-spinner {\n",
              "    border: 2px solid var(--fill-color);\n",
              "    border-color: transparent;\n",
              "    border-bottom-color: var(--fill-color);\n",
              "    animation:\n",
              "      spin 1s steps(1) infinite;\n",
              "  }\n",
              "\n",
              "  @keyframes spin {\n",
              "    0% {\n",
              "      border-color: transparent;\n",
              "      border-bottom-color: var(--fill-color);\n",
              "      border-left-color: var(--fill-color);\n",
              "    }\n",
              "    20% {\n",
              "      border-color: transparent;\n",
              "      border-left-color: var(--fill-color);\n",
              "      border-top-color: var(--fill-color);\n",
              "    }\n",
              "    30% {\n",
              "      border-color: transparent;\n",
              "      border-left-color: var(--fill-color);\n",
              "      border-top-color: var(--fill-color);\n",
              "      border-right-color: var(--fill-color);\n",
              "    }\n",
              "    40% {\n",
              "      border-color: transparent;\n",
              "      border-right-color: var(--fill-color);\n",
              "      border-top-color: var(--fill-color);\n",
              "    }\n",
              "    60% {\n",
              "      border-color: transparent;\n",
              "      border-right-color: var(--fill-color);\n",
              "    }\n",
              "    80% {\n",
              "      border-color: transparent;\n",
              "      border-right-color: var(--fill-color);\n",
              "      border-bottom-color: var(--fill-color);\n",
              "    }\n",
              "    90% {\n",
              "      border-color: transparent;\n",
              "      border-bottom-color: var(--fill-color);\n",
              "    }\n",
              "  }\n",
              "</style>\n",
              "\n",
              "  <script>\n",
              "    async function quickchart(key) {\n",
              "      const quickchartButtonEl =\n",
              "        document.querySelector('#' + key + ' button');\n",
              "      quickchartButtonEl.disabled = true;  // To prevent multiple clicks.\n",
              "      quickchartButtonEl.classList.add('colab-df-spinner');\n",
              "      try {\n",
              "        const charts = await google.colab.kernel.invokeFunction(\n",
              "            'suggestCharts', [key], {});\n",
              "      } catch (error) {\n",
              "        console.error('Error during call to suggestCharts:', error);\n",
              "      }\n",
              "      quickchartButtonEl.classList.remove('colab-df-spinner');\n",
              "      quickchartButtonEl.classList.add('colab-df-quickchart-complete');\n",
              "    }\n",
              "    (() => {\n",
              "      let quickchartButtonEl =\n",
<<<<<<< HEAD
<<<<<<< HEAD
              "        document.querySelector('#df-9d7e1312-f246-40a4-a5b2-26e77d2df93b button');\n",
=======
              "        document.querySelector('#df-9357640a-881d-4403-a155-601b0884f7c2 button');\n",
>>>>>>> 6253581 (:wrench: build: mudança na base de dados e no model Movie)
=======
              "        document.querySelector('#df-c7826232-9a0f-4916-bf2c-b23b7ce1a30b button');\n",
>>>>>>> 47d5486 (:wrench: build: obtendo os dados dos filmes e criando app Movies)
              "      quickchartButtonEl.style.display =\n",
              "        google.colab.kernel.accessAllowed ? 'block' : 'none';\n",
              "    })();\n",
              "  </script>\n",
              "</div>\n",
              "\n",
              "    </div>\n",
              "  </div>\n"
            ],
            "application/vnd.google.colaboratory.intrinsic+json": {
              "type": "dataframe"
            }
          },
          "metadata": {}
        }
      ]
    },
    {
      "cell_type": "markdown",
      "source": [
        "### Função para gerar o top10 filmes mais semelhantes de qualquer filme presente na base de dados:"
      ],
      "metadata": {
        "id": "G4YnQZLnvgHS"
      }
    },
    {
      "cell_type": "code",
<<<<<<< HEAD
<<<<<<< HEAD
      "execution_count": 54,
=======
      "execution_count": 87,
>>>>>>> 6253581 (:wrench: build: mudança na base de dados e no model Movie)
=======
      "execution_count": 36,
>>>>>>> 47d5486 (:wrench: build: obtendo os dados dos filmes e criando app Movies)
      "metadata": {
        "id": "lVtpWfbCtXJ0"
      },
      "outputs": [],
      "source": [
        "def top10_similarity(movie):\n",
        "  df = pd.DataFrame(similarity_df[movie]).sort_values(by=movie, ascending=False)\n",
        "  return df.head(11)[1:]"
      ]
    },
    {
      "cell_type": "markdown",
      "source": [
        "### Exemplo de utilização:"
      ],
      "metadata": {
        "id": "egUnroYFv1QD"
      }
    },
    {
      "cell_type": "code",
      "source": [
        "top10_similarity('The Dark Knight')"
      ],
      "metadata": {
        "colab": {
          "base_uri": "https://localhost:8080/",
          "height": 394
        },
        "id": "vL0CIsPR7cjU",
<<<<<<< HEAD
<<<<<<< HEAD
        "outputId": "2a8d2df5-9d61-4427-97e6-cae93ec30c5f"
      },
      "execution_count": 55,
=======
        "outputId": "baee27b0-cea2-416f-8f95-02b154df2850"
      },
      "execution_count": 88,
>>>>>>> 6253581 (:wrench: build: mudança na base de dados e no model Movie)
=======
        "outputId": "b9998ea5-b3bd-4b5f-81f5-1a89c5df30c4"
      },
      "execution_count": 37,
>>>>>>> 47d5486 (:wrench: build: obtendo os dados dos filmes e criando app Movies)
      "outputs": [
        {
          "output_type": "execute_result",
          "data": {
            "text/plain": [
              "                                      The Dark Knight\n",
              "title                                                \n",
<<<<<<< HEAD
              "Batman                                       0.370356\n",
              "The Dark Knight Rises                        0.354408\n",
              "Batman: The Long Halloween, Part One         0.346921\n",
              "Batman: The Long Halloween, Part Two         0.338264\n",
              "Batman: Mask of the Phantasm                 0.321305\n",
              "Batman Begins                                0.301861\n",
              "Batman Beyond: Return of the Joker           0.290741\n",
              "Batman: Under the Red Hood                   0.290534\n",
              "The Batman                                   0.280847\n",
              "Batman Forever                               0.280532"
            ],
            "text/html": [
              "\n",
<<<<<<< HEAD
              "  <div id=\"df-818f7f39-70a3-48aa-8ab4-fd906cd78b87\" class=\"colab-df-container\">\n",
=======
              "  <div id=\"df-f9442be0-75cd-4d95-a6ef-d753fbb19c0e\" class=\"colab-df-container\">\n",
>>>>>>> 6253581 (:wrench: build: mudança na base de dados e no model Movie)
=======
              "Batman                                       0.367566\n",
              "The Dark Knight Rises                        0.354037\n",
              "Batman: The Long Halloween, Part One         0.346923\n",
              "Batman: The Long Halloween, Part Two         0.339245\n",
              "Batman: Mask of the Phantasm                 0.319307\n",
              "Batman Begins                                0.299554\n",
              "Batman: Under the Red Hood                   0.288086\n",
              "Batman Beyond: Return of the Joker           0.287773\n",
              "Batman Forever                               0.282026\n",
              "The Batman                                   0.278530"
            ],
            "text/html": [
              "\n",
              "  <div id=\"df-61dd287b-cb2f-4344-8929-7b9fe47ce2b9\" class=\"colab-df-container\">\n",
>>>>>>> 47d5486 (:wrench: build: obtendo os dados dos filmes e criando app Movies)
              "    <div>\n",
              "<style scoped>\n",
              "    .dataframe tbody tr th:only-of-type {\n",
              "        vertical-align: middle;\n",
              "    }\n",
              "\n",
              "    .dataframe tbody tr th {\n",
              "        vertical-align: top;\n",
              "    }\n",
              "\n",
              "    .dataframe thead th {\n",
              "        text-align: right;\n",
              "    }\n",
              "</style>\n",
              "<table border=\"1\" class=\"dataframe\">\n",
              "  <thead>\n",
              "    <tr style=\"text-align: right;\">\n",
              "      <th></th>\n",
              "      <th>The Dark Knight</th>\n",
              "    </tr>\n",
              "    <tr>\n",
              "      <th>title</th>\n",
              "      <th></th>\n",
              "    </tr>\n",
              "  </thead>\n",
              "  <tbody>\n",
              "    <tr>\n",
              "      <th>Batman</th>\n",
<<<<<<< HEAD
              "      <td>0.370356</td>\n",
              "    </tr>\n",
              "    <tr>\n",
              "      <th>The Dark Knight Rises</th>\n",
              "      <td>0.354408</td>\n",
              "    </tr>\n",
              "    <tr>\n",
              "      <th>Batman: The Long Halloween, Part One</th>\n",
              "      <td>0.346921</td>\n",
              "    </tr>\n",
              "    <tr>\n",
              "      <th>Batman: The Long Halloween, Part Two</th>\n",
              "      <td>0.338264</td>\n",
              "    </tr>\n",
              "    <tr>\n",
              "      <th>Batman: Mask of the Phantasm</th>\n",
              "      <td>0.321305</td>\n",
              "    </tr>\n",
              "    <tr>\n",
              "      <th>Batman Begins</th>\n",
              "      <td>0.301861</td>\n",
              "    </tr>\n",
              "    <tr>\n",
              "      <th>Batman Beyond: Return of the Joker</th>\n",
              "      <td>0.290741</td>\n",
              "    </tr>\n",
              "    <tr>\n",
              "      <th>Batman: Under the Red Hood</th>\n",
              "      <td>0.290534</td>\n",
              "    </tr>\n",
              "    <tr>\n",
              "      <th>The Batman</th>\n",
              "      <td>0.280847</td>\n",
              "    </tr>\n",
              "    <tr>\n",
              "      <th>Batman Forever</th>\n",
              "      <td>0.280532</td>\n",
=======
              "      <td>0.367566</td>\n",
              "    </tr>\n",
              "    <tr>\n",
              "      <th>The Dark Knight Rises</th>\n",
              "      <td>0.354037</td>\n",
              "    </tr>\n",
              "    <tr>\n",
              "      <th>Batman: The Long Halloween, Part One</th>\n",
              "      <td>0.346923</td>\n",
              "    </tr>\n",
              "    <tr>\n",
              "      <th>Batman: The Long Halloween, Part Two</th>\n",
              "      <td>0.339245</td>\n",
              "    </tr>\n",
              "    <tr>\n",
              "      <th>Batman: Mask of the Phantasm</th>\n",
              "      <td>0.319307</td>\n",
              "    </tr>\n",
              "    <tr>\n",
              "      <th>Batman Begins</th>\n",
              "      <td>0.299554</td>\n",
              "    </tr>\n",
              "    <tr>\n",
              "      <th>Batman: Under the Red Hood</th>\n",
              "      <td>0.288086</td>\n",
              "    </tr>\n",
              "    <tr>\n",
              "      <th>Batman Beyond: Return of the Joker</th>\n",
              "      <td>0.287773</td>\n",
              "    </tr>\n",
              "    <tr>\n",
              "      <th>Batman Forever</th>\n",
              "      <td>0.282026</td>\n",
              "    </tr>\n",
              "    <tr>\n",
              "      <th>The Batman</th>\n",
              "      <td>0.278530</td>\n",
>>>>>>> 47d5486 (:wrench: build: obtendo os dados dos filmes e criando app Movies)
              "    </tr>\n",
              "  </tbody>\n",
              "</table>\n",
              "</div>\n",
              "    <div class=\"colab-df-buttons\">\n",
              "\n",
              "  <div class=\"colab-df-container\">\n",
<<<<<<< HEAD
<<<<<<< HEAD
              "    <button class=\"colab-df-convert\" onclick=\"convertToInteractive('df-818f7f39-70a3-48aa-8ab4-fd906cd78b87')\"\n",
=======
              "    <button class=\"colab-df-convert\" onclick=\"convertToInteractive('df-f9442be0-75cd-4d95-a6ef-d753fbb19c0e')\"\n",
>>>>>>> 6253581 (:wrench: build: mudança na base de dados e no model Movie)
=======
              "    <button class=\"colab-df-convert\" onclick=\"convertToInteractive('df-61dd287b-cb2f-4344-8929-7b9fe47ce2b9')\"\n",
>>>>>>> 47d5486 (:wrench: build: obtendo os dados dos filmes e criando app Movies)
              "            title=\"Convert this dataframe to an interactive table.\"\n",
              "            style=\"display:none;\">\n",
              "\n",
              "  <svg xmlns=\"http://www.w3.org/2000/svg\" height=\"24px\" viewBox=\"0 -960 960 960\">\n",
              "    <path d=\"M120-120v-720h720v720H120Zm60-500h600v-160H180v160Zm220 220h160v-160H400v160Zm0 220h160v-160H400v160ZM180-400h160v-160H180v160Zm440 0h160v-160H620v160ZM180-180h160v-160H180v160Zm440 0h160v-160H620v160Z\"/>\n",
              "  </svg>\n",
              "    </button>\n",
              "\n",
              "  <style>\n",
              "    .colab-df-container {\n",
              "      display:flex;\n",
              "      gap: 12px;\n",
              "    }\n",
              "\n",
              "    .colab-df-convert {\n",
              "      background-color: #E8F0FE;\n",
              "      border: none;\n",
              "      border-radius: 50%;\n",
              "      cursor: pointer;\n",
              "      display: none;\n",
              "      fill: #1967D2;\n",
              "      height: 32px;\n",
              "      padding: 0 0 0 0;\n",
              "      width: 32px;\n",
              "    }\n",
              "\n",
              "    .colab-df-convert:hover {\n",
              "      background-color: #E2EBFA;\n",
              "      box-shadow: 0px 1px 2px rgba(60, 64, 67, 0.3), 0px 1px 3px 1px rgba(60, 64, 67, 0.15);\n",
              "      fill: #174EA6;\n",
              "    }\n",
              "\n",
              "    .colab-df-buttons div {\n",
              "      margin-bottom: 4px;\n",
              "    }\n",
              "\n",
              "    [theme=dark] .colab-df-convert {\n",
              "      background-color: #3B4455;\n",
              "      fill: #D2E3FC;\n",
              "    }\n",
              "\n",
              "    [theme=dark] .colab-df-convert:hover {\n",
              "      background-color: #434B5C;\n",
              "      box-shadow: 0px 1px 3px 1px rgba(0, 0, 0, 0.15);\n",
              "      filter: drop-shadow(0px 1px 2px rgba(0, 0, 0, 0.3));\n",
              "      fill: #FFFFFF;\n",
              "    }\n",
              "  </style>\n",
              "\n",
              "    <script>\n",
              "      const buttonEl =\n",
<<<<<<< HEAD
<<<<<<< HEAD
              "        document.querySelector('#df-818f7f39-70a3-48aa-8ab4-fd906cd78b87 button.colab-df-convert');\n",
=======
              "        document.querySelector('#df-f9442be0-75cd-4d95-a6ef-d753fbb19c0e button.colab-df-convert');\n",
>>>>>>> 6253581 (:wrench: build: mudança na base de dados e no model Movie)
=======
              "        document.querySelector('#df-61dd287b-cb2f-4344-8929-7b9fe47ce2b9 button.colab-df-convert');\n",
>>>>>>> 47d5486 (:wrench: build: obtendo os dados dos filmes e criando app Movies)
              "      buttonEl.style.display =\n",
              "        google.colab.kernel.accessAllowed ? 'block' : 'none';\n",
              "\n",
              "      async function convertToInteractive(key) {\n",
<<<<<<< HEAD
<<<<<<< HEAD
              "        const element = document.querySelector('#df-818f7f39-70a3-48aa-8ab4-fd906cd78b87');\n",
=======
              "        const element = document.querySelector('#df-f9442be0-75cd-4d95-a6ef-d753fbb19c0e');\n",
>>>>>>> 6253581 (:wrench: build: mudança na base de dados e no model Movie)
=======
              "        const element = document.querySelector('#df-61dd287b-cb2f-4344-8929-7b9fe47ce2b9');\n",
>>>>>>> 47d5486 (:wrench: build: obtendo os dados dos filmes e criando app Movies)
              "        const dataTable =\n",
              "          await google.colab.kernel.invokeFunction('convertToInteractive',\n",
              "                                                    [key], {});\n",
              "        if (!dataTable) return;\n",
              "\n",
              "        const docLinkHtml = 'Like what you see? Visit the ' +\n",
              "          '<a target=\"_blank\" href=https://colab.research.google.com/notebooks/data_table.ipynb>data table notebook</a>'\n",
              "          + ' to learn more about interactive tables.';\n",
              "        element.innerHTML = '';\n",
              "        dataTable['output_type'] = 'display_data';\n",
              "        await google.colab.output.renderOutput(dataTable, element);\n",
              "        const docLink = document.createElement('div');\n",
              "        docLink.innerHTML = docLinkHtml;\n",
              "        element.appendChild(docLink);\n",
              "      }\n",
              "    </script>\n",
              "  </div>\n",
              "\n",
              "\n",
<<<<<<< HEAD
<<<<<<< HEAD
              "<div id=\"df-8eb47e6a-4f0d-414b-8cad-63dfcc3f058d\">\n",
              "  <button class=\"colab-df-quickchart\" onclick=\"quickchart('df-8eb47e6a-4f0d-414b-8cad-63dfcc3f058d')\"\n",
=======
              "<div id=\"df-c288cf28-b002-4699-9b78-9fb898949e90\">\n",
              "  <button class=\"colab-df-quickchart\" onclick=\"quickchart('df-c288cf28-b002-4699-9b78-9fb898949e90')\"\n",
>>>>>>> 6253581 (:wrench: build: mudança na base de dados e no model Movie)
=======
              "<div id=\"df-b53ad1c2-77a5-4f8b-bf0a-965044bec31e\">\n",
              "  <button class=\"colab-df-quickchart\" onclick=\"quickchart('df-b53ad1c2-77a5-4f8b-bf0a-965044bec31e')\"\n",
>>>>>>> 47d5486 (:wrench: build: obtendo os dados dos filmes e criando app Movies)
              "            title=\"Suggest charts\"\n",
              "            style=\"display:none;\">\n",
              "\n",
              "<svg xmlns=\"http://www.w3.org/2000/svg\" height=\"24px\"viewBox=\"0 0 24 24\"\n",
              "     width=\"24px\">\n",
              "    <g>\n",
              "        <path d=\"M19 3H5c-1.1 0-2 .9-2 2v14c0 1.1.9 2 2 2h14c1.1 0 2-.9 2-2V5c0-1.1-.9-2-2-2zM9 17H7v-7h2v7zm4 0h-2V7h2v10zm4 0h-2v-4h2v4z\"/>\n",
              "    </g>\n",
              "</svg>\n",
              "  </button>\n",
              "\n",
              "<style>\n",
              "  .colab-df-quickchart {\n",
              "      --bg-color: #E8F0FE;\n",
              "      --fill-color: #1967D2;\n",
              "      --hover-bg-color: #E2EBFA;\n",
              "      --hover-fill-color: #174EA6;\n",
              "      --disabled-fill-color: #AAA;\n",
              "      --disabled-bg-color: #DDD;\n",
              "  }\n",
              "\n",
              "  [theme=dark] .colab-df-quickchart {\n",
              "      --bg-color: #3B4455;\n",
              "      --fill-color: #D2E3FC;\n",
              "      --hover-bg-color: #434B5C;\n",
              "      --hover-fill-color: #FFFFFF;\n",
              "      --disabled-bg-color: #3B4455;\n",
              "      --disabled-fill-color: #666;\n",
              "  }\n",
              "\n",
              "  .colab-df-quickchart {\n",
              "    background-color: var(--bg-color);\n",
              "    border: none;\n",
              "    border-radius: 50%;\n",
              "    cursor: pointer;\n",
              "    display: none;\n",
              "    fill: var(--fill-color);\n",
              "    height: 32px;\n",
              "    padding: 0;\n",
              "    width: 32px;\n",
              "  }\n",
              "\n",
              "  .colab-df-quickchart:hover {\n",
              "    background-color: var(--hover-bg-color);\n",
              "    box-shadow: 0 1px 2px rgba(60, 64, 67, 0.3), 0 1px 3px 1px rgba(60, 64, 67, 0.15);\n",
              "    fill: var(--button-hover-fill-color);\n",
              "  }\n",
              "\n",
              "  .colab-df-quickchart-complete:disabled,\n",
              "  .colab-df-quickchart-complete:disabled:hover {\n",
              "    background-color: var(--disabled-bg-color);\n",
              "    fill: var(--disabled-fill-color);\n",
              "    box-shadow: none;\n",
              "  }\n",
              "\n",
              "  .colab-df-spinner {\n",
              "    border: 2px solid var(--fill-color);\n",
              "    border-color: transparent;\n",
              "    border-bottom-color: var(--fill-color);\n",
              "    animation:\n",
              "      spin 1s steps(1) infinite;\n",
              "  }\n",
              "\n",
              "  @keyframes spin {\n",
              "    0% {\n",
              "      border-color: transparent;\n",
              "      border-bottom-color: var(--fill-color);\n",
              "      border-left-color: var(--fill-color);\n",
              "    }\n",
              "    20% {\n",
              "      border-color: transparent;\n",
              "      border-left-color: var(--fill-color);\n",
              "      border-top-color: var(--fill-color);\n",
              "    }\n",
              "    30% {\n",
              "      border-color: transparent;\n",
              "      border-left-color: var(--fill-color);\n",
              "      border-top-color: var(--fill-color);\n",
              "      border-right-color: var(--fill-color);\n",
              "    }\n",
              "    40% {\n",
              "      border-color: transparent;\n",
              "      border-right-color: var(--fill-color);\n",
              "      border-top-color: var(--fill-color);\n",
              "    }\n",
              "    60% {\n",
              "      border-color: transparent;\n",
              "      border-right-color: var(--fill-color);\n",
              "    }\n",
              "    80% {\n",
              "      border-color: transparent;\n",
              "      border-right-color: var(--fill-color);\n",
              "      border-bottom-color: var(--fill-color);\n",
              "    }\n",
              "    90% {\n",
              "      border-color: transparent;\n",
              "      border-bottom-color: var(--fill-color);\n",
              "    }\n",
              "  }\n",
              "</style>\n",
              "\n",
              "  <script>\n",
              "    async function quickchart(key) {\n",
              "      const quickchartButtonEl =\n",
              "        document.querySelector('#' + key + ' button');\n",
              "      quickchartButtonEl.disabled = true;  // To prevent multiple clicks.\n",
              "      quickchartButtonEl.classList.add('colab-df-spinner');\n",
              "      try {\n",
              "        const charts = await google.colab.kernel.invokeFunction(\n",
              "            'suggestCharts', [key], {});\n",
              "      } catch (error) {\n",
              "        console.error('Error during call to suggestCharts:', error);\n",
              "      }\n",
              "      quickchartButtonEl.classList.remove('colab-df-spinner');\n",
              "      quickchartButtonEl.classList.add('colab-df-quickchart-complete');\n",
              "    }\n",
              "    (() => {\n",
              "      let quickchartButtonEl =\n",
<<<<<<< HEAD
<<<<<<< HEAD
              "        document.querySelector('#df-8eb47e6a-4f0d-414b-8cad-63dfcc3f058d button');\n",
=======
              "        document.querySelector('#df-c288cf28-b002-4699-9b78-9fb898949e90 button');\n",
>>>>>>> 6253581 (:wrench: build: mudança na base de dados e no model Movie)
=======
              "        document.querySelector('#df-b53ad1c2-77a5-4f8b-bf0a-965044bec31e button');\n",
>>>>>>> 47d5486 (:wrench: build: obtendo os dados dos filmes e criando app Movies)
              "      quickchartButtonEl.style.display =\n",
              "        google.colab.kernel.accessAllowed ? 'block' : 'none';\n",
              "    })();\n",
              "  </script>\n",
              "</div>\n",
              "\n",
              "    </div>\n",
              "  </div>\n"
            ],
            "application/vnd.google.colaboratory.intrinsic+json": {
              "type": "dataframe",
<<<<<<< HEAD
              "summary": "{\n  \"name\": \"top10_similarity('The Dark Knight')\",\n  \"rows\": 10,\n  \"fields\": [\n    {\n      \"column\": \"title\",\n      \"properties\": {\n        \"dtype\": \"string\",\n        \"num_unique_values\": 10,\n        \"samples\": [\n          \"The Batman\",\n          \"The Dark Knight Rises\",\n          \"Batman Begins\"\n        ],\n        \"semantic_type\": \"\",\n        \"description\": \"\"\n      }\n    },\n    {\n      \"column\": \"The Dark Knight\",\n      \"properties\": {\n        \"dtype\": \"number\",\n        \"std\": 0.03310763579190048,\n        \"min\": 0.28053189154379937,\n        \"max\": 0.3703564906058623,\n        \"num_unique_values\": 10,\n        \"samples\": [\n          0.2808472551740553,\n          0.35440785547965403,\n          0.30186124137249054\n        ],\n        \"semantic_type\": \"\",\n        \"description\": \"\"\n      }\n    }\n  ]\n}"
            }
          },
          "metadata": {},
<<<<<<< HEAD
          "execution_count": 55
=======
          "execution_count": 88
>>>>>>> 6253581 (:wrench: build: mudança na base de dados e no model Movie)
=======
              "summary": "{\n  \"name\": \"top10_similarity('The Dark Knight')\",\n  \"rows\": 10,\n  \"fields\": [\n    {\n      \"column\": \"title\",\n      \"properties\": {\n        \"dtype\": \"string\",\n        \"num_unique_values\": 10,\n        \"samples\": [\n          \"Batman Forever\",\n          \"The Dark Knight Rises\",\n          \"Batman Begins\"\n        ],\n        \"semantic_type\": \"\",\n        \"description\": \"\"\n      }\n    },\n    {\n      \"column\": \"The Dark Knight\",\n      \"properties\": {\n        \"dtype\": \"number\",\n        \"std\": 0.03336186224758519,\n        \"min\": 0.27853034422345596,\n        \"max\": 0.36756633775208997,\n        \"num_unique_values\": 10,\n        \"samples\": [\n          0.28202582780380486,\n          0.35403748556481524,\n          0.29955392062271546\n        ],\n        \"semantic_type\": \"\",\n        \"description\": \"\"\n      }\n    }\n  ]\n}"
            }
          },
          "metadata": {},
          "execution_count": 37
>>>>>>> 47d5486 (:wrench: build: obtendo os dados dos filmes e criando app Movies)
        }
      ]
    },
    {
      "cell_type": "markdown",
      "source": [
        "### Utilizando a função para criar coluna com os filmes semelhantes"
      ],
      "metadata": {
        "id": "8btVJ9trv6Tr"
      }
    },
    {
      "cell_type": "code",
      "source": [
        "df['similar_movies'] = df['title'].apply(lambda x: top10_similarity(x).index.tolist())"
      ],
      "metadata": {
        "id": "NgympPWM7hOO"
      },
<<<<<<< HEAD
<<<<<<< HEAD
      "execution_count": 56,
=======
      "execution_count": 89,
>>>>>>> 6253581 (:wrench: build: mudança na base de dados e no model Movie)
=======
      "execution_count": 38,
>>>>>>> 47d5486 (:wrench: build: obtendo os dados dos filmes e criando app Movies)
      "outputs": []
    },
    {
      "cell_type": "code",
      "source": [
        "df[['title', 'similar_movies']].head(3)"
      ],
      "metadata": {
        "colab": {
          "base_uri": "https://localhost:8080/",
          "height": 143
        },
        "id": "15oKTa8dbaQa",
<<<<<<< HEAD
<<<<<<< HEAD
        "outputId": "647f452e-2b6c-462b-cbaf-6e1d567800f7"
      },
      "execution_count": 57,
=======
        "outputId": "3ebc43af-22d4-4686-aded-acfa74331c02"
      },
      "execution_count": 90,
>>>>>>> 6253581 (:wrench: build: mudança na base de dados e no model Movie)
=======
        "outputId": "99179bd6-0a06-435e-e460-5dab95a08972"
      },
      "execution_count": 39,
>>>>>>> 47d5486 (:wrench: build: obtendo os dados dos filmes e criando app Movies)
      "outputs": [
        {
          "output_type": "execute_result",
          "data": {
            "text/plain": [
              "             title                                     similar_movies\n",
<<<<<<< HEAD
              "0        Inception  [Inception: The Cobol Job, The Cell, Enemy, Th...\n",
=======
              "0        Inception  [The Cell, Enemy, The Matrix, The Magnificent ...\n",
>>>>>>> 47d5486 (:wrench: build: obtendo os dados dos filmes e criando app Movies)
              "1     Interstellar  [2001: A Space Odyssey, Stowaway, Space Pirate...\n",
              "2  The Dark Knight  [Batman, The Dark Knight Rises, Batman: The Lo..."
            ],
            "text/html": [
              "\n",
<<<<<<< HEAD
<<<<<<< HEAD
              "  <div id=\"df-2dd712d7-1c78-4961-b8df-b594e54b1cf5\" class=\"colab-df-container\">\n",
=======
              "  <div id=\"df-70a8b5c8-3c41-4882-822e-f98bc35e9d87\" class=\"colab-df-container\">\n",
>>>>>>> 6253581 (:wrench: build: mudança na base de dados e no model Movie)
=======
              "  <div id=\"df-45585295-c48d-43ea-88a3-385773c1cc32\" class=\"colab-df-container\">\n",
>>>>>>> 47d5486 (:wrench: build: obtendo os dados dos filmes e criando app Movies)
              "    <div>\n",
              "<style scoped>\n",
              "    .dataframe tbody tr th:only-of-type {\n",
              "        vertical-align: middle;\n",
              "    }\n",
              "\n",
              "    .dataframe tbody tr th {\n",
              "        vertical-align: top;\n",
              "    }\n",
              "\n",
              "    .dataframe thead th {\n",
              "        text-align: right;\n",
              "    }\n",
              "</style>\n",
              "<table border=\"1\" class=\"dataframe\">\n",
              "  <thead>\n",
              "    <tr style=\"text-align: right;\">\n",
              "      <th></th>\n",
              "      <th>title</th>\n",
              "      <th>similar_movies</th>\n",
              "    </tr>\n",
              "  </thead>\n",
              "  <tbody>\n",
              "    <tr>\n",
              "      <th>0</th>\n",
              "      <td>Inception</td>\n",
<<<<<<< HEAD
              "      <td>[Inception: The Cobol Job, The Cell, Enemy, Th...</td>\n",
=======
              "      <td>[The Cell, Enemy, The Matrix, The Magnificent ...</td>\n",
>>>>>>> 47d5486 (:wrench: build: obtendo os dados dos filmes e criando app Movies)
              "    </tr>\n",
              "    <tr>\n",
              "      <th>1</th>\n",
              "      <td>Interstellar</td>\n",
              "      <td>[2001: A Space Odyssey, Stowaway, Space Pirate...</td>\n",
              "    </tr>\n",
              "    <tr>\n",
              "      <th>2</th>\n",
              "      <td>The Dark Knight</td>\n",
              "      <td>[Batman, The Dark Knight Rises, Batman: The Lo...</td>\n",
              "    </tr>\n",
              "  </tbody>\n",
              "</table>\n",
              "</div>\n",
              "    <div class=\"colab-df-buttons\">\n",
              "\n",
              "  <div class=\"colab-df-container\">\n",
<<<<<<< HEAD
<<<<<<< HEAD
              "    <button class=\"colab-df-convert\" onclick=\"convertToInteractive('df-2dd712d7-1c78-4961-b8df-b594e54b1cf5')\"\n",
=======
              "    <button class=\"colab-df-convert\" onclick=\"convertToInteractive('df-70a8b5c8-3c41-4882-822e-f98bc35e9d87')\"\n",
>>>>>>> 6253581 (:wrench: build: mudança na base de dados e no model Movie)
=======
              "    <button class=\"colab-df-convert\" onclick=\"convertToInteractive('df-45585295-c48d-43ea-88a3-385773c1cc32')\"\n",
>>>>>>> 47d5486 (:wrench: build: obtendo os dados dos filmes e criando app Movies)
              "            title=\"Convert this dataframe to an interactive table.\"\n",
              "            style=\"display:none;\">\n",
              "\n",
              "  <svg xmlns=\"http://www.w3.org/2000/svg\" height=\"24px\" viewBox=\"0 -960 960 960\">\n",
              "    <path d=\"M120-120v-720h720v720H120Zm60-500h600v-160H180v160Zm220 220h160v-160H400v160Zm0 220h160v-160H400v160ZM180-400h160v-160H180v160Zm440 0h160v-160H620v160ZM180-180h160v-160H180v160Zm440 0h160v-160H620v160Z\"/>\n",
              "  </svg>\n",
              "    </button>\n",
              "\n",
              "  <style>\n",
              "    .colab-df-container {\n",
              "      display:flex;\n",
              "      gap: 12px;\n",
              "    }\n",
              "\n",
              "    .colab-df-convert {\n",
              "      background-color: #E8F0FE;\n",
              "      border: none;\n",
              "      border-radius: 50%;\n",
              "      cursor: pointer;\n",
              "      display: none;\n",
              "      fill: #1967D2;\n",
              "      height: 32px;\n",
              "      padding: 0 0 0 0;\n",
              "      width: 32px;\n",
              "    }\n",
              "\n",
              "    .colab-df-convert:hover {\n",
              "      background-color: #E2EBFA;\n",
              "      box-shadow: 0px 1px 2px rgba(60, 64, 67, 0.3), 0px 1px 3px 1px rgba(60, 64, 67, 0.15);\n",
              "      fill: #174EA6;\n",
              "    }\n",
              "\n",
              "    .colab-df-buttons div {\n",
              "      margin-bottom: 4px;\n",
              "    }\n",
              "\n",
              "    [theme=dark] .colab-df-convert {\n",
              "      background-color: #3B4455;\n",
              "      fill: #D2E3FC;\n",
              "    }\n",
              "\n",
              "    [theme=dark] .colab-df-convert:hover {\n",
              "      background-color: #434B5C;\n",
              "      box-shadow: 0px 1px 3px 1px rgba(0, 0, 0, 0.15);\n",
              "      filter: drop-shadow(0px 1px 2px rgba(0, 0, 0, 0.3));\n",
              "      fill: #FFFFFF;\n",
              "    }\n",
              "  </style>\n",
              "\n",
              "    <script>\n",
              "      const buttonEl =\n",
<<<<<<< HEAD
<<<<<<< HEAD
              "        document.querySelector('#df-2dd712d7-1c78-4961-b8df-b594e54b1cf5 button.colab-df-convert');\n",
=======
              "        document.querySelector('#df-70a8b5c8-3c41-4882-822e-f98bc35e9d87 button.colab-df-convert');\n",
>>>>>>> 6253581 (:wrench: build: mudança na base de dados e no model Movie)
=======
              "        document.querySelector('#df-45585295-c48d-43ea-88a3-385773c1cc32 button.colab-df-convert');\n",
>>>>>>> 47d5486 (:wrench: build: obtendo os dados dos filmes e criando app Movies)
              "      buttonEl.style.display =\n",
              "        google.colab.kernel.accessAllowed ? 'block' : 'none';\n",
              "\n",
              "      async function convertToInteractive(key) {\n",
<<<<<<< HEAD
<<<<<<< HEAD
              "        const element = document.querySelector('#df-2dd712d7-1c78-4961-b8df-b594e54b1cf5');\n",
=======
              "        const element = document.querySelector('#df-70a8b5c8-3c41-4882-822e-f98bc35e9d87');\n",
>>>>>>> 6253581 (:wrench: build: mudança na base de dados e no model Movie)
=======
              "        const element = document.querySelector('#df-45585295-c48d-43ea-88a3-385773c1cc32');\n",
>>>>>>> 47d5486 (:wrench: build: obtendo os dados dos filmes e criando app Movies)
              "        const dataTable =\n",
              "          await google.colab.kernel.invokeFunction('convertToInteractive',\n",
              "                                                    [key], {});\n",
              "        if (!dataTable) return;\n",
              "\n",
              "        const docLinkHtml = 'Like what you see? Visit the ' +\n",
              "          '<a target=\"_blank\" href=https://colab.research.google.com/notebooks/data_table.ipynb>data table notebook</a>'\n",
              "          + ' to learn more about interactive tables.';\n",
              "        element.innerHTML = '';\n",
              "        dataTable['output_type'] = 'display_data';\n",
              "        await google.colab.output.renderOutput(dataTable, element);\n",
              "        const docLink = document.createElement('div');\n",
              "        docLink.innerHTML = docLinkHtml;\n",
              "        element.appendChild(docLink);\n",
              "      }\n",
              "    </script>\n",
              "  </div>\n",
              "\n",
              "\n",
<<<<<<< HEAD
<<<<<<< HEAD
              "<div id=\"df-ef03f46a-c2da-4185-ab30-2fd395faf992\">\n",
              "  <button class=\"colab-df-quickchart\" onclick=\"quickchart('df-ef03f46a-c2da-4185-ab30-2fd395faf992')\"\n",
=======
              "<div id=\"df-5f08f371-14a0-478c-88f4-156242e3a0fd\">\n",
              "  <button class=\"colab-df-quickchart\" onclick=\"quickchart('df-5f08f371-14a0-478c-88f4-156242e3a0fd')\"\n",
>>>>>>> 6253581 (:wrench: build: mudança na base de dados e no model Movie)
=======
              "<div id=\"df-e6e23947-9290-480f-9d2b-cf394968fd5c\">\n",
              "  <button class=\"colab-df-quickchart\" onclick=\"quickchart('df-e6e23947-9290-480f-9d2b-cf394968fd5c')\"\n",
>>>>>>> 47d5486 (:wrench: build: obtendo os dados dos filmes e criando app Movies)
              "            title=\"Suggest charts\"\n",
              "            style=\"display:none;\">\n",
              "\n",
              "<svg xmlns=\"http://www.w3.org/2000/svg\" height=\"24px\"viewBox=\"0 0 24 24\"\n",
              "     width=\"24px\">\n",
              "    <g>\n",
              "        <path d=\"M19 3H5c-1.1 0-2 .9-2 2v14c0 1.1.9 2 2 2h14c1.1 0 2-.9 2-2V5c0-1.1-.9-2-2-2zM9 17H7v-7h2v7zm4 0h-2V7h2v10zm4 0h-2v-4h2v4z\"/>\n",
              "    </g>\n",
              "</svg>\n",
              "  </button>\n",
              "\n",
              "<style>\n",
              "  .colab-df-quickchart {\n",
              "      --bg-color: #E8F0FE;\n",
              "      --fill-color: #1967D2;\n",
              "      --hover-bg-color: #E2EBFA;\n",
              "      --hover-fill-color: #174EA6;\n",
              "      --disabled-fill-color: #AAA;\n",
              "      --disabled-bg-color: #DDD;\n",
              "  }\n",
              "\n",
              "  [theme=dark] .colab-df-quickchart {\n",
              "      --bg-color: #3B4455;\n",
              "      --fill-color: #D2E3FC;\n",
              "      --hover-bg-color: #434B5C;\n",
              "      --hover-fill-color: #FFFFFF;\n",
              "      --disabled-bg-color: #3B4455;\n",
              "      --disabled-fill-color: #666;\n",
              "  }\n",
              "\n",
              "  .colab-df-quickchart {\n",
              "    background-color: var(--bg-color);\n",
              "    border: none;\n",
              "    border-radius: 50%;\n",
              "    cursor: pointer;\n",
              "    display: none;\n",
              "    fill: var(--fill-color);\n",
              "    height: 32px;\n",
              "    padding: 0;\n",
              "    width: 32px;\n",
              "  }\n",
              "\n",
              "  .colab-df-quickchart:hover {\n",
              "    background-color: var(--hover-bg-color);\n",
              "    box-shadow: 0 1px 2px rgba(60, 64, 67, 0.3), 0 1px 3px 1px rgba(60, 64, 67, 0.15);\n",
              "    fill: var(--button-hover-fill-color);\n",
              "  }\n",
              "\n",
              "  .colab-df-quickchart-complete:disabled,\n",
              "  .colab-df-quickchart-complete:disabled:hover {\n",
              "    background-color: var(--disabled-bg-color);\n",
              "    fill: var(--disabled-fill-color);\n",
              "    box-shadow: none;\n",
              "  }\n",
              "\n",
              "  .colab-df-spinner {\n",
              "    border: 2px solid var(--fill-color);\n",
              "    border-color: transparent;\n",
              "    border-bottom-color: var(--fill-color);\n",
              "    animation:\n",
              "      spin 1s steps(1) infinite;\n",
              "  }\n",
              "\n",
              "  @keyframes spin {\n",
              "    0% {\n",
              "      border-color: transparent;\n",
              "      border-bottom-color: var(--fill-color);\n",
              "      border-left-color: var(--fill-color);\n",
              "    }\n",
              "    20% {\n",
              "      border-color: transparent;\n",
              "      border-left-color: var(--fill-color);\n",
              "      border-top-color: var(--fill-color);\n",
              "    }\n",
              "    30% {\n",
              "      border-color: transparent;\n",
              "      border-left-color: var(--fill-color);\n",
              "      border-top-color: var(--fill-color);\n",
              "      border-right-color: var(--fill-color);\n",
              "    }\n",
              "    40% {\n",
              "      border-color: transparent;\n",
              "      border-right-color: var(--fill-color);\n",
              "      border-top-color: var(--fill-color);\n",
              "    }\n",
              "    60% {\n",
              "      border-color: transparent;\n",
              "      border-right-color: var(--fill-color);\n",
              "    }\n",
              "    80% {\n",
              "      border-color: transparent;\n",
              "      border-right-color: var(--fill-color);\n",
              "      border-bottom-color: var(--fill-color);\n",
              "    }\n",
              "    90% {\n",
              "      border-color: transparent;\n",
              "      border-bottom-color: var(--fill-color);\n",
              "    }\n",
              "  }\n",
              "</style>\n",
              "\n",
              "  <script>\n",
              "    async function quickchart(key) {\n",
              "      const quickchartButtonEl =\n",
              "        document.querySelector('#' + key + ' button');\n",
              "      quickchartButtonEl.disabled = true;  // To prevent multiple clicks.\n",
              "      quickchartButtonEl.classList.add('colab-df-spinner');\n",
              "      try {\n",
              "        const charts = await google.colab.kernel.invokeFunction(\n",
              "            'suggestCharts', [key], {});\n",
              "      } catch (error) {\n",
              "        console.error('Error during call to suggestCharts:', error);\n",
              "      }\n",
              "      quickchartButtonEl.classList.remove('colab-df-spinner');\n",
              "      quickchartButtonEl.classList.add('colab-df-quickchart-complete');\n",
              "    }\n",
              "    (() => {\n",
              "      let quickchartButtonEl =\n",
<<<<<<< HEAD
<<<<<<< HEAD
              "        document.querySelector('#df-ef03f46a-c2da-4185-ab30-2fd395faf992 button');\n",
=======
              "        document.querySelector('#df-5f08f371-14a0-478c-88f4-156242e3a0fd button');\n",
>>>>>>> 6253581 (:wrench: build: mudança na base de dados e no model Movie)
=======
              "        document.querySelector('#df-e6e23947-9290-480f-9d2b-cf394968fd5c button');\n",
>>>>>>> 47d5486 (:wrench: build: obtendo os dados dos filmes e criando app Movies)
              "      quickchartButtonEl.style.display =\n",
              "        google.colab.kernel.accessAllowed ? 'block' : 'none';\n",
              "    })();\n",
              "  </script>\n",
              "</div>\n",
              "\n",
              "    </div>\n",
              "  </div>\n"
            ],
            "application/vnd.google.colaboratory.intrinsic+json": {
              "type": "dataframe",
              "summary": "{\n  \"name\": \"df[['title', 'similar_movies']]\",\n  \"rows\": 3,\n  \"fields\": [\n    {\n      \"column\": \"title\",\n      \"properties\": {\n        \"dtype\": \"string\",\n        \"num_unique_values\": 3,\n        \"samples\": [\n          \"Inception\",\n          \"Interstellar\",\n          \"The Dark Knight\"\n        ],\n        \"semantic_type\": \"\",\n        \"description\": \"\"\n      }\n    },\n    {\n      \"column\": \"similar_movies\",\n      \"properties\": {\n        \"dtype\": \"object\",\n        \"semantic_type\": \"\",\n        \"description\": \"\"\n      }\n    }\n  ]\n}"
            }
          },
          "metadata": {},
<<<<<<< HEAD
<<<<<<< HEAD
          "execution_count": 57
=======
          "execution_count": 90
>>>>>>> 6253581 (:wrench: build: mudança na base de dados e no model Movie)
=======
          "execution_count": 39
>>>>>>> 47d5486 (:wrench: build: obtendo os dados dos filmes e criando app Movies)
        }
      ]
    },
    {
      "cell_type": "markdown",
      "source": [
        "### Buscando no dataframe os filmes mais similares com os presentes na lista, e formatando a saída para trazer mais dados que possam ser úteis:"
      ],
      "metadata": {
        "id": "1Ybqg_kTwOaf"
      }
    },
    {
      "cell_type": "code",
      "source": [
        "movies_list = [\n",
        "    'Cars', 'Toy Story', 'Fight Club',\n",
        "    'The Silence of the Lambs', 'The Dark Knight',\n",
        "    ]\n",
        "\n",
        "for movie in movies_list:\n",
        "  print(\"=\" * 100)\n",
        "  print(f\"\\nTop 10 filmes mais semelhantes a {movie}:\\n\")\n",
        "  for similar_movie in df.query(f\"title == '{movie}'\")['similar_movies'].values[0]:\n",
        "    print('- ' + similar_movie + \", nota média: \" + str(df.query(f\"title == '{similar_movie}'\")['vote_average'].values[0]) + \", quantidade de avaliações: \" + str(df.query(f\"title == '{similar_movie}'\")['vote_count'].values[0]) + \", duração: \" + str(df.query(f\"title == '{similar_movie}'\")['runtime'].values[0]) + \" minutos\")\n",
        "  print()"
      ],
      "metadata": {
        "colab": {
          "base_uri": "https://localhost:8080/"
        },
        "id": "rcLpzFLcmSrG",
<<<<<<< HEAD
<<<<<<< HEAD
        "outputId": "c3c20927-2a02-47cf-e32c-3686d403acf1"
      },
      "execution_count": 58,
=======
        "outputId": "2d8f8903-7cf5-471f-8588-ac2dba704b58"
      },
      "execution_count": 91,
>>>>>>> 6253581 (:wrench: build: mudança na base de dados e no model Movie)
=======
        "outputId": "33e9d60e-8ad6-4092-bd7a-3ab9e6766cd8"
      },
      "execution_count": 40,
>>>>>>> 47d5486 (:wrench: build: obtendo os dados dos filmes e criando app Movies)
      "outputs": [
        {
          "output_type": "stream",
          "name": "stdout",
          "text": [
            "====================================================================================================\n",
            "\n",
            "Top 10 filmes mais semelhantes a Cars:\n",
            "\n",
            "- Cars 2, nota média: 6.08, quantidade de avaliações: 7115, duração: 106 minutos\n",
            "- Cars 3, nota média: 6.85, quantidade de avaliações: 5263, duração: 102 minutos\n",
            "- A Goofy Movie, nota média: 6.98, quantidade de avaliações: 1592, duração: 78 minutos\n",
            "- Vacation, nota média: 6.3, quantidade de avaliações: 3472, duração: 99 minutos\n",
            "- Death Race 2, nota média: 5.79, quantidade de avaliações: 1011, duração: 100 minutos\n",
<<<<<<< HEAD
            "- The Great Race, nota média: 7.15, quantidade de avaliações: 282, duração: 160 minutos\n",
            "- Ford v Ferrari, nota média: 8.01, quantidade de avaliações: 6972, duração: 153 minutos\n",
            "- The Love Bug, nota média: 6.53, quantidade de avaliações: 527, duração: 107 minutos\n",
            "- Cannonball Run II, nota média: 5.39, quantidade de avaliações: 282, duração: 108 minutos\n",
            "- The Wizard, nota média: 5.99, quantidade de avaliações: 283, duração: 100 minutos\n",
=======
            "- Ford v Ferrari, nota média: 8.01, quantidade de avaliações: 6972, duração: 153 minutos\n",
            "- The Love Bug, nota média: 6.53, quantidade de avaliações: 527, duração: 107 minutos\n",
            "- McFarland, USA, nota média: 7.41, quantidade de avaliações: 686, duração: 128 minutos\n",
            "- The Art of Racing in the Rain, nota média: 8.21, quantidade de avaliações: 1304, duração: 109 minutos\n",
            "- Days of Thunder, nota média: 6.35, quantidade de avaliações: 1321, duração: 107 minutos\n",
>>>>>>> 47d5486 (:wrench: build: obtendo os dados dos filmes e criando app Movies)
            "\n",
            "====================================================================================================\n",
            "\n",
            "Top 10 filmes mais semelhantes a Toy Story:\n",
            "\n",
            "- Toy Story 2, nota média: 7.59, quantidade de avaliações: 12904, duração: 92 minutos\n",
            "- Toy Story 3, nota média: 7.79, quantidade de avaliações: 13777, duração: 103 minutos\n",
            "- Toy Story 4, nota média: 7.5, quantidade de avaliações: 9093, duração: 100 minutos\n",
            "- Buzz Lightyear of Star Command: The Adventure Begins, nota média: 6.39, quantidade de avaliações: 310, duração: 70 minutos\n",
            "- Small Soldiers, nota média: 6.52, quantidade de avaliações: 1944, duração: 110 minutos\n",
<<<<<<< HEAD
            "- Lamp Life, nota média: 7.2, quantidade de avaliações: 272, duração: 7 minutos\n",
=======
>>>>>>> 47d5486 (:wrench: build: obtendo os dados dos filmes e criando app Movies)
            "- The 40 Year Old Virgin, nota média: 6.37, quantidade de avaliações: 6218, duração: 116 minutos\n",
            "- Toy Story of Terror!, nota média: 7.19, quantidade de avaliações: 848, duração: 22 minutos\n",
            "- Toys, nota média: 5.2, quantidade de avaliações: 490, duração: 118 minutos\n",
            "- Woody Woodpecker, nota média: 6.66, quantidade de avaliações: 646, duração: 91 minutos\n",
<<<<<<< HEAD
=======
            "- Lightyear, nota média: 7.1, quantidade de avaliações: 3053, duração: 105 minutos\n",
>>>>>>> 47d5486 (:wrench: build: obtendo os dados dos filmes e criando app Movies)
            "\n",
            "====================================================================================================\n",
            "\n",
            "Top 10 filmes mais semelhantes a Fight Club:\n",
            "\n",
            "- A History of Violence, nota média: 7.17, quantidade de avaliações: 2906, duração: 96 minutos\n",
            "- The Man Who Knew Too Little, nota média: 6.32, quantidade de avaliações: 434, duração: 97 minutos\n",
            "- Identity, nota média: 7.18, quantidade de avaliações: 3502, duração: 90 minutos\n",
<<<<<<< HEAD
            "- The Talented Mr. Ripley, nota média: 7.18, quantidade de avaliações: 3228, duração: 139 minutos\n",
=======
>>>>>>> 47d5486 (:wrench: build: obtendo os dados dos filmes e criando app Movies)
            "- Never Back Down, nota média: 6.75, quantidade de avaliações: 2146, duração: 115 minutos\n",
            "- The Talented Mr. Ripley, nota média: 7.18, quantidade de avaliações: 3228, duração: 139 minutos\n",
            "- Blood and Bone, nota média: 7.34, quantidade de avaliações: 692, duração: 93 minutos\n",
<<<<<<< HEAD
            "- Bruised, nota média: 6.93, quantidade de avaliações: 408, duração: 129 minutos\n",
            "- Split, nota média: 7.34, quantidade de avaliações: 16345, duração: 117 minutos\n",
            "- Spider-Man 2, nota média: 7.26, quantidade de avaliações: 14096, duração: 127 minutos\n",
            "- The Man, nota média: 5.72, quantidade de avaliações: 495, duração: 83 minutos\n",
=======
            "- Split, nota média: 7.34, quantidade de avaliações: 16345, duração: 117 minutos\n",
            "- Bruised, nota média: 6.93, quantidade de avaliações: 408, duração: 129 minutos\n",
            "- The Man, nota média: 5.72, quantidade de avaliações: 495, duração: 83 minutos\n",
            "- Spider-Man 2, nota média: 7.26, quantidade de avaliações: 14096, duração: 127 minutos\n",
>>>>>>> 47d5486 (:wrench: build: obtendo os dados dos filmes e criando app Movies)
            "\n",
            "====================================================================================================\n",
            "\n",
            "Top 10 filmes mais semelhantes a The Silence of the Lambs:\n",
            "\n",
            "- Red Dragon, nota média: 7.02, quantidade de avaliações: 3888, duração: 124 minutos\n",
            "- Hannibal, nota média: 6.77, quantidade de avaliações: 4320, duração: 131 minutos\n",
            "- Manhunter, nota média: 7.0, quantidade de avaliações: 1169, duração: 120 minutos\n",
            "- Hannibal Rising, nota média: 6.24, quantidade de avaliações: 2018, duração: 121 minutos\n",
            "- War, nota média: 6.29, quantidade de avaliações: 1573, duração: 103 minutos\n",
            "- Primal Fear, nota média: 7.65, quantidade de avaliações: 3058, duração: 129 minutos\n",
            "- Mindhunters, nota média: 6.45, quantidade de avaliações: 1067, duração: 106 minutos\n",
            "- Surveillance, nota média: 5.96, quantidade de avaliações: 300, duração: 97 minutos\n",
            "- Kiss the Girls, nota média: 6.5, quantidade de avaliações: 1363, duração: 115 minutos\n",
            "- I Saw the Devil, nota média: 7.8, quantidade de avaliações: 2257, duração: 144 minutos\n",
            "\n",
            "====================================================================================================\n",
            "\n",
            "Top 10 filmes mais semelhantes a The Dark Knight:\n",
            "\n",
            "- Batman, nota média: 7.2, quantidade de avaliações: 7152, duração: 126 minutos\n",
            "- The Dark Knight Rises, nota média: 7.78, quantidade de avaliações: 21335, duração: 165 minutos\n",
            "- Batman: The Long Halloween, Part One, nota média: 7.5, quantidade de avaliações: 541, duração: 85 minutos\n",
            "- Batman: The Long Halloween, Part Two, nota média: 7.46, quantidade de avaliações: 447, duração: 87 minutos\n",
            "- Batman: Mask of the Phantasm, nota média: 7.49, quantidade de avaliações: 967, duração: 76 minutos\n",
            "- Batman Begins, nota média: 7.7, quantidade de avaliações: 19561, duração: 140 minutos\n",
            "- Batman: Under the Red Hood, nota média: 7.75, quantidade de avaliações: 1461, duração: 75 minutos\n",
<<<<<<< HEAD
=======
            "- Batman Beyond: Return of the Joker, nota média: 7.31, quantidade de avaliações: 1030, duração: 76 minutos\n",
            "- Batman Forever, nota média: 5.41, quantidade de avaliações: 4780, duração: 121 minutos\n",
>>>>>>> 47d5486 (:wrench: build: obtendo os dados dos filmes e criando app Movies)
            "- The Batman, nota média: 7.7, quantidade de avaliações: 8584, duração: 177 minutos\n",
            "- Batman Forever, nota média: 5.41, quantidade de avaliações: 4780, duração: 121 minutos\n",
            "\n"
          ]
        }
      ]
    },
    {
      "cell_type": "code",
      "source": [
<<<<<<< HEAD
<<<<<<< HEAD
        "df.drop(columns=['keywords', 'info'], inplace=True)"
      ],
      "metadata": {
        "id": "WFeq3e74Xmm6"
      },
      "execution_count": 59,
=======
        "df.drop(columns=['keywords', 'info'], inplace=True)\n",
        "df.drop_duplicates(subset='title', inplace=True)"
      ],
      "metadata": {
        "id": "MwZGjtoMrchK"
      },
      "execution_count": 92,
>>>>>>> 6253581 (:wrench: build: mudança na base de dados e no model Movie)
      "outputs": []
    },
    {
      "cell_type": "code",
      "source": [
<<<<<<< HEAD
        "display(df.head(3))\n",
        "display(df.info())"
      ],
      "metadata": {
        "id": "bhcn5sf6Wi0p",
        "outputId": "d2da8d97-cd9d-44e2-fe75-85765dd9ca7b",
        "colab": {
          "base_uri": "https://localhost:8080/",
          "height": 463
        }
      },
      "execution_count": 60,
      "outputs": [
        {
          "output_type": "display_data",
=======
        "df.head(3)"
      ],
      "metadata": {
        "id": "bFJdobB6rmep",
        "outputId": "4be86a80-35c6-40dc-d955-95dcc9845eae",
        "colab": {
          "base_uri": "https://localhost:8080/",
          "height": 195
        }
      },
      "execution_count": 93,
      "outputs": [
        {
          "output_type": "execute_result",
>>>>>>> 6253581 (:wrench: build: mudança na base de dados e no model Movie)
          "data": {
            "text/plain": [
              "             title  vote_average  vote_count  \\\n",
              "0        Inception          8.36       34495   \n",
              "1     Interstellar          8.42       32571   \n",
              "2  The Dark Knight          8.51       30619   \n",
              "\n",
              "                                            overview  \\\n",
              "0  Cobb, a skilled thief who commits corporate es...   \n",
              "1  The adventures of a group of explorers who mak...   \n",
              "2  Batman raises the stakes in his war on crime. ...   \n",
              "\n",
              "                               genres  runtime  \\\n",
              "0  Action, Science Fiction, Adventure      148   \n",
              "1   Adventure, Drama, Science Fiction      169   \n",
              "2      Drama, Action, Crime, Thriller      152   \n",
              "\n",
              "                                      similar_movies  \n",
              "0  [Inception: The Cobol Job, The Cell, Enemy, Th...  \n",
              "1  [2001: A Space Odyssey, Stowaway, Space Pirate...  \n",
              "2  [Batman, The Dark Knight Rises, Batman: The Lo...  "
            ],
            "text/html": [
              "\n",
<<<<<<< HEAD
              "  <div id=\"df-e2e58afa-4245-4747-aab8-f54a4bded52f\" class=\"colab-df-container\">\n",
=======
              "  <div id=\"df-cb64eb2a-bc4a-4a27-8787-4dae7154a819\" class=\"colab-df-container\">\n",
>>>>>>> 6253581 (:wrench: build: mudança na base de dados e no model Movie)
              "    <div>\n",
              "<style scoped>\n",
              "    .dataframe tbody tr th:only-of-type {\n",
              "        vertical-align: middle;\n",
              "    }\n",
              "\n",
              "    .dataframe tbody tr th {\n",
              "        vertical-align: top;\n",
              "    }\n",
              "\n",
              "    .dataframe thead th {\n",
              "        text-align: right;\n",
              "    }\n",
              "</style>\n",
              "<table border=\"1\" class=\"dataframe\">\n",
              "  <thead>\n",
              "    <tr style=\"text-align: right;\">\n",
              "      <th></th>\n",
              "      <th>title</th>\n",
              "      <th>vote_average</th>\n",
              "      <th>vote_count</th>\n",
              "      <th>overview</th>\n",
              "      <th>genres</th>\n",
              "      <th>runtime</th>\n",
              "      <th>similar_movies</th>\n",
              "    </tr>\n",
              "  </thead>\n",
              "  <tbody>\n",
              "    <tr>\n",
              "      <th>0</th>\n",
              "      <td>Inception</td>\n",
              "      <td>8.36</td>\n",
              "      <td>34495</td>\n",
              "      <td>Cobb, a skilled thief who commits corporate es...</td>\n",
              "      <td>Action, Science Fiction, Adventure</td>\n",
              "      <td>148</td>\n",
              "      <td>[Inception: The Cobol Job, The Cell, Enemy, Th...</td>\n",
              "    </tr>\n",
              "    <tr>\n",
              "      <th>1</th>\n",
              "      <td>Interstellar</td>\n",
              "      <td>8.42</td>\n",
              "      <td>32571</td>\n",
              "      <td>The adventures of a group of explorers who mak...</td>\n",
              "      <td>Adventure, Drama, Science Fiction</td>\n",
              "      <td>169</td>\n",
              "      <td>[2001: A Space Odyssey, Stowaway, Space Pirate...</td>\n",
              "    </tr>\n",
              "    <tr>\n",
              "      <th>2</th>\n",
              "      <td>The Dark Knight</td>\n",
              "      <td>8.51</td>\n",
              "      <td>30619</td>\n",
              "      <td>Batman raises the stakes in his war on crime. ...</td>\n",
              "      <td>Drama, Action, Crime, Thriller</td>\n",
              "      <td>152</td>\n",
              "      <td>[Batman, The Dark Knight Rises, Batman: The Lo...</td>\n",
              "    </tr>\n",
              "  </tbody>\n",
              "</table>\n",
              "</div>\n",
              "    <div class=\"colab-df-buttons\">\n",
              "\n",
              "  <div class=\"colab-df-container\">\n",
<<<<<<< HEAD
              "    <button class=\"colab-df-convert\" onclick=\"convertToInteractive('df-e2e58afa-4245-4747-aab8-f54a4bded52f')\"\n",
=======
              "    <button class=\"colab-df-convert\" onclick=\"convertToInteractive('df-cb64eb2a-bc4a-4a27-8787-4dae7154a819')\"\n",
>>>>>>> 6253581 (:wrench: build: mudança na base de dados e no model Movie)
              "            title=\"Convert this dataframe to an interactive table.\"\n",
              "            style=\"display:none;\">\n",
              "\n",
              "  <svg xmlns=\"http://www.w3.org/2000/svg\" height=\"24px\" viewBox=\"0 -960 960 960\">\n",
              "    <path d=\"M120-120v-720h720v720H120Zm60-500h600v-160H180v160Zm220 220h160v-160H400v160Zm0 220h160v-160H400v160ZM180-400h160v-160H180v160Zm440 0h160v-160H620v160ZM180-180h160v-160H180v160Zm440 0h160v-160H620v160Z\"/>\n",
              "  </svg>\n",
              "    </button>\n",
              "\n",
              "  <style>\n",
              "    .colab-df-container {\n",
              "      display:flex;\n",
              "      gap: 12px;\n",
              "    }\n",
              "\n",
              "    .colab-df-convert {\n",
              "      background-color: #E8F0FE;\n",
              "      border: none;\n",
              "      border-radius: 50%;\n",
              "      cursor: pointer;\n",
              "      display: none;\n",
              "      fill: #1967D2;\n",
              "      height: 32px;\n",
              "      padding: 0 0 0 0;\n",
              "      width: 32px;\n",
              "    }\n",
              "\n",
              "    .colab-df-convert:hover {\n",
              "      background-color: #E2EBFA;\n",
              "      box-shadow: 0px 1px 2px rgba(60, 64, 67, 0.3), 0px 1px 3px 1px rgba(60, 64, 67, 0.15);\n",
              "      fill: #174EA6;\n",
              "    }\n",
              "\n",
              "    .colab-df-buttons div {\n",
              "      margin-bottom: 4px;\n",
              "    }\n",
              "\n",
              "    [theme=dark] .colab-df-convert {\n",
              "      background-color: #3B4455;\n",
              "      fill: #D2E3FC;\n",
              "    }\n",
              "\n",
              "    [theme=dark] .colab-df-convert:hover {\n",
              "      background-color: #434B5C;\n",
              "      box-shadow: 0px 1px 3px 1px rgba(0, 0, 0, 0.15);\n",
              "      filter: drop-shadow(0px 1px 2px rgba(0, 0, 0, 0.3));\n",
              "      fill: #FFFFFF;\n",
              "    }\n",
              "  </style>\n",
              "\n",
              "    <script>\n",
              "      const buttonEl =\n",
<<<<<<< HEAD
              "        document.querySelector('#df-e2e58afa-4245-4747-aab8-f54a4bded52f button.colab-df-convert');\n",
=======
              "        document.querySelector('#df-cb64eb2a-bc4a-4a27-8787-4dae7154a819 button.colab-df-convert');\n",
>>>>>>> 6253581 (:wrench: build: mudança na base de dados e no model Movie)
              "      buttonEl.style.display =\n",
              "        google.colab.kernel.accessAllowed ? 'block' : 'none';\n",
              "\n",
              "      async function convertToInteractive(key) {\n",
<<<<<<< HEAD
              "        const element = document.querySelector('#df-e2e58afa-4245-4747-aab8-f54a4bded52f');\n",
=======
              "        const element = document.querySelector('#df-cb64eb2a-bc4a-4a27-8787-4dae7154a819');\n",
>>>>>>> 6253581 (:wrench: build: mudança na base de dados e no model Movie)
              "        const dataTable =\n",
              "          await google.colab.kernel.invokeFunction('convertToInteractive',\n",
              "                                                    [key], {});\n",
              "        if (!dataTable) return;\n",
              "\n",
              "        const docLinkHtml = 'Like what you see? Visit the ' +\n",
              "          '<a target=\"_blank\" href=https://colab.research.google.com/notebooks/data_table.ipynb>data table notebook</a>'\n",
              "          + ' to learn more about interactive tables.';\n",
              "        element.innerHTML = '';\n",
              "        dataTable['output_type'] = 'display_data';\n",
              "        await google.colab.output.renderOutput(dataTable, element);\n",
              "        const docLink = document.createElement('div');\n",
              "        docLink.innerHTML = docLinkHtml;\n",
              "        element.appendChild(docLink);\n",
              "      }\n",
              "    </script>\n",
              "  </div>\n",
              "\n",
              "\n",
<<<<<<< HEAD
              "<div id=\"df-a5bc2a14-5069-482d-9de8-a24626aa220d\">\n",
              "  <button class=\"colab-df-quickchart\" onclick=\"quickchart('df-a5bc2a14-5069-482d-9de8-a24626aa220d')\"\n",
=======
              "<div id=\"df-6ffa64a4-08fc-4ee0-9db9-52189465e9dc\">\n",
              "  <button class=\"colab-df-quickchart\" onclick=\"quickchart('df-6ffa64a4-08fc-4ee0-9db9-52189465e9dc')\"\n",
>>>>>>> 6253581 (:wrench: build: mudança na base de dados e no model Movie)
              "            title=\"Suggest charts\"\n",
              "            style=\"display:none;\">\n",
              "\n",
              "<svg xmlns=\"http://www.w3.org/2000/svg\" height=\"24px\"viewBox=\"0 0 24 24\"\n",
              "     width=\"24px\">\n",
              "    <g>\n",
              "        <path d=\"M19 3H5c-1.1 0-2 .9-2 2v14c0 1.1.9 2 2 2h14c1.1 0 2-.9 2-2V5c0-1.1-.9-2-2-2zM9 17H7v-7h2v7zm4 0h-2V7h2v10zm4 0h-2v-4h2v4z\"/>\n",
              "    </g>\n",
              "</svg>\n",
              "  </button>\n",
              "\n",
              "<style>\n",
              "  .colab-df-quickchart {\n",
              "      --bg-color: #E8F0FE;\n",
              "      --fill-color: #1967D2;\n",
              "      --hover-bg-color: #E2EBFA;\n",
              "      --hover-fill-color: #174EA6;\n",
              "      --disabled-fill-color: #AAA;\n",
              "      --disabled-bg-color: #DDD;\n",
              "  }\n",
              "\n",
              "  [theme=dark] .colab-df-quickchart {\n",
              "      --bg-color: #3B4455;\n",
              "      --fill-color: #D2E3FC;\n",
              "      --hover-bg-color: #434B5C;\n",
              "      --hover-fill-color: #FFFFFF;\n",
              "      --disabled-bg-color: #3B4455;\n",
              "      --disabled-fill-color: #666;\n",
              "  }\n",
              "\n",
              "  .colab-df-quickchart {\n",
              "    background-color: var(--bg-color);\n",
              "    border: none;\n",
              "    border-radius: 50%;\n",
              "    cursor: pointer;\n",
              "    display: none;\n",
              "    fill: var(--fill-color);\n",
              "    height: 32px;\n",
              "    padding: 0;\n",
              "    width: 32px;\n",
              "  }\n",
              "\n",
              "  .colab-df-quickchart:hover {\n",
              "    background-color: var(--hover-bg-color);\n",
              "    box-shadow: 0 1px 2px rgba(60, 64, 67, 0.3), 0 1px 3px 1px rgba(60, 64, 67, 0.15);\n",
              "    fill: var(--button-hover-fill-color);\n",
              "  }\n",
              "\n",
              "  .colab-df-quickchart-complete:disabled,\n",
              "  .colab-df-quickchart-complete:disabled:hover {\n",
              "    background-color: var(--disabled-bg-color);\n",
              "    fill: var(--disabled-fill-color);\n",
              "    box-shadow: none;\n",
              "  }\n",
              "\n",
              "  .colab-df-spinner {\n",
              "    border: 2px solid var(--fill-color);\n",
              "    border-color: transparent;\n",
              "    border-bottom-color: var(--fill-color);\n",
              "    animation:\n",
              "      spin 1s steps(1) infinite;\n",
              "  }\n",
              "\n",
              "  @keyframes spin {\n",
              "    0% {\n",
              "      border-color: transparent;\n",
              "      border-bottom-color: var(--fill-color);\n",
              "      border-left-color: var(--fill-color);\n",
              "    }\n",
              "    20% {\n",
              "      border-color: transparent;\n",
              "      border-left-color: var(--fill-color);\n",
              "      border-top-color: var(--fill-color);\n",
              "    }\n",
              "    30% {\n",
              "      border-color: transparent;\n",
              "      border-left-color: var(--fill-color);\n",
              "      border-top-color: var(--fill-color);\n",
              "      border-right-color: var(--fill-color);\n",
              "    }\n",
              "    40% {\n",
              "      border-color: transparent;\n",
              "      border-right-color: var(--fill-color);\n",
              "      border-top-color: var(--fill-color);\n",
              "    }\n",
              "    60% {\n",
              "      border-color: transparent;\n",
              "      border-right-color: var(--fill-color);\n",
              "    }\n",
              "    80% {\n",
              "      border-color: transparent;\n",
              "      border-right-color: var(--fill-color);\n",
              "      border-bottom-color: var(--fill-color);\n",
              "    }\n",
              "    90% {\n",
              "      border-color: transparent;\n",
              "      border-bottom-color: var(--fill-color);\n",
              "    }\n",
              "  }\n",
              "</style>\n",
              "\n",
              "  <script>\n",
              "    async function quickchart(key) {\n",
              "      const quickchartButtonEl =\n",
              "        document.querySelector('#' + key + ' button');\n",
              "      quickchartButtonEl.disabled = true;  // To prevent multiple clicks.\n",
              "      quickchartButtonEl.classList.add('colab-df-spinner');\n",
              "      try {\n",
              "        const charts = await google.colab.kernel.invokeFunction(\n",
              "            'suggestCharts', [key], {});\n",
              "      } catch (error) {\n",
              "        console.error('Error during call to suggestCharts:', error);\n",
              "      }\n",
              "      quickchartButtonEl.classList.remove('colab-df-spinner');\n",
              "      quickchartButtonEl.classList.add('colab-df-quickchart-complete');\n",
              "    }\n",
              "    (() => {\n",
              "      let quickchartButtonEl =\n",
<<<<<<< HEAD
              "        document.querySelector('#df-a5bc2a14-5069-482d-9de8-a24626aa220d button');\n",
=======
              "        document.querySelector('#df-6ffa64a4-08fc-4ee0-9db9-52189465e9dc button');\n",
>>>>>>> 6253581 (:wrench: build: mudança na base de dados e no model Movie)
              "      quickchartButtonEl.style.display =\n",
              "        google.colab.kernel.accessAllowed ? 'block' : 'none';\n",
              "    })();\n",
              "  </script>\n",
              "</div>\n",
              "\n",
              "    </div>\n",
              "  </div>\n"
            ],
            "application/vnd.google.colaboratory.intrinsic+json": {
              "type": "dataframe",
<<<<<<< HEAD
              "summary": "{\n  \"name\": \"display(df\",\n  \"rows\": 3,\n  \"fields\": [\n    {\n      \"column\": \"title\",\n      \"properties\": {\n        \"dtype\": \"string\",\n        \"num_unique_values\": 3,\n        \"samples\": [\n          \"Inception\",\n          \"Interstellar\",\n          \"The Dark Knight\"\n        ],\n        \"semantic_type\": \"\",\n        \"description\": \"\"\n      }\n    },\n    {\n      \"column\": \"vote_average\",\n      \"properties\": {\n        \"dtype\": \"number\",\n        \"std\": 0.07549834435270765,\n        \"min\": 8.36,\n        \"max\": 8.51,\n        \"num_unique_values\": 3,\n        \"samples\": [\n          8.36,\n          8.42,\n          8.51\n        ],\n        \"semantic_type\": \"\",\n        \"description\": \"\"\n      }\n    },\n    {\n      \"column\": \"vote_count\",\n      \"properties\": {\n        \"dtype\": \"number\",\n        \"std\": 1938,\n        \"min\": 30619,\n        \"max\": 34495,\n        \"num_unique_values\": 3,\n        \"samples\": [\n          34495,\n          32571,\n          30619\n        ],\n        \"semantic_type\": \"\",\n        \"description\": \"\"\n      }\n    },\n    {\n      \"column\": \"overview\",\n      \"properties\": {\n        \"dtype\": \"string\",\n        \"num_unique_values\": 3,\n        \"samples\": [\n          \"Cobb, a skilled thief who commits corporate espionage by infiltrating the subconscious of his targets is offered a chance to regain his old life as payment for a task considered to be impossible: \\\"inception\\\", the implantation of another person's idea into a target's subconscious.\",\n          \"The adventures of a group of explorers who make use of a newly discovered wormhole to surpass the limitations on human space travel and conquer the vast distances involved in an interstellar voyage.\",\n          \"Batman raises the stakes in his war on crime. With the help of Lt. Jim Gordon and District Attorney Harvey Dent, Batman sets out to dismantle the remaining criminal organizations that plague the streets. The partnership proves to be effective, but they soon find themselves prey to a reign of chaos unleashed by a rising criminal mastermind known to the terrified citizens of Gotham as the Joker.\"\n        ],\n        \"semantic_type\": \"\",\n        \"description\": \"\"\n      }\n    },\n    {\n      \"column\": \"genres\",\n      \"properties\": {\n        \"dtype\": \"string\",\n        \"num_unique_values\": 3,\n        \"samples\": [\n          \"Action, Science Fiction, Adventure\",\n          \"Adventure, Drama, Science Fiction\",\n          \"Drama, Action, Crime, Thriller\"\n        ],\n        \"semantic_type\": \"\",\n        \"description\": \"\"\n      }\n    },\n    {\n      \"column\": \"runtime\",\n      \"properties\": {\n        \"dtype\": \"number\",\n        \"std\": 11,\n        \"min\": 148,\n        \"max\": 169,\n        \"num_unique_values\": 3,\n        \"samples\": [\n          148,\n          169,\n          152\n        ],\n        \"semantic_type\": \"\",\n        \"description\": \"\"\n      }\n    },\n    {\n      \"column\": \"similar_movies\",\n      \"properties\": {\n        \"dtype\": \"object\",\n        \"semantic_type\": \"\",\n        \"description\": \"\"\n      }\n    }\n  ]\n}"
            }
          },
          "metadata": {}
        },
=======
              "variable_name": "df",
              "summary": "{\n  \"name\": \"df\",\n  \"rows\": 9367,\n  \"fields\": [\n    {\n      \"column\": \"title\",\n      \"properties\": {\n        \"dtype\": \"string\",\n        \"num_unique_values\": 9367,\n        \"samples\": [\n          \"Despicable Me\",\n          \"Maggie's Plan\",\n          \"The Perfect Man\"\n        ],\n        \"semantic_type\": \"\",\n        \"description\": \"\"\n      }\n    },\n    {\n      \"column\": \"vote_average\",\n      \"properties\": {\n        \"dtype\": \"number\",\n        \"std\": 0.7972773177165091,\n        \"min\": 2.1,\n        \"max\": 9.17,\n        \"num_unique_values\": 455,\n        \"samples\": [\n          5.53,\n          7.7,\n          4.94\n        ],\n        \"semantic_type\": \"\",\n        \"description\": \"\"\n      }\n    },\n    {\n      \"column\": \"vote_count\",\n      \"properties\": {\n        \"dtype\": \"number\",\n        \"std\": 2973,\n        \"min\": 250,\n        \"max\": 34495,\n        \"num_unique_values\": 3309,\n        \"samples\": [\n          18730,\n          5615,\n          2839\n        ],\n        \"semantic_type\": \"\",\n        \"description\": \"\"\n      }\n    },\n    {\n      \"column\": \"overview\",\n      \"properties\": {\n        \"dtype\": \"string\",\n        \"num_unique_values\": 9367,\n        \"samples\": [\n          \"Villainous Gru lives up to his reputation as a despicable, deplorable and downright unlikable guy when he hatches a plan to steal the moon from the sky. But he has a tough time staying on task after three orphans land in his care.\",\n          \"Maggie's plan to have a baby on her own is derailed when she falls in love with John, a married man, destroying his volatile marriage to the brilliant and impossible Georgette. But one daughter and three years later, Maggie is out of love and in a quandary: what do you do when you suspect your man and his ex wife are actually perfect for each other?\",\n          \"Holly is tired of moving every time her mom Jean breaks up with yet another second-rate guy. To distract her mother from her latest bad choice, Holly conceives the perfect plan for the perfect man, an imaginary secret admirer who will romance Jean and boost her self-esteem.\"\n        ],\n        \"semantic_type\": \"\",\n        \"description\": \"\"\n      }\n    },\n    {\n      \"column\": \"genres\",\n      \"properties\": {\n        \"dtype\": \"category\",\n        \"num_unique_values\": 2063,\n        \"samples\": [\n          \"Family, History, Drama\",\n          \"Western, Action, Adventure\",\n          \"Family, Adventure, Fantasy\"\n        ],\n        \"semantic_type\": \"\",\n        \"description\": \"\"\n      }\n    },\n    {\n      \"column\": \"runtime\",\n      \"properties\": {\n        \"dtype\": \"number\",\n        \"std\": 22,\n        \"min\": 1,\n        \"max\": 366,\n        \"num_unique_values\": 204,\n        \"samples\": [\n          194,\n          154,\n          238\n        ],\n        \"semantic_type\": \"\",\n        \"description\": \"\"\n      }\n    },\n    {\n      \"column\": \"similar_movies\",\n      \"properties\": {\n        \"dtype\": \"object\",\n        \"semantic_type\": \"\",\n        \"description\": \"\"\n      }\n    }\n  ]\n}"
            }
          },
          "metadata": {},
          "execution_count": 93
        }
      ]
    },
    {
      "cell_type": "code",
      "source": [
        "df.info()"
      ],
      "metadata": {
        "id": "vbbu6TxRrozQ",
        "outputId": "8dd5b1ac-ffe1-4cee-f292-ac51f882b1ac",
        "colab": {
          "base_uri": "https://localhost:8080/"
        }
      },
      "execution_count": 94,
      "outputs": [
>>>>>>> 6253581 (:wrench: build: mudança na base de dados e no model Movie)
        {
          "output_type": "stream",
          "name": "stdout",
          "text": [
            "<class 'pandas.core.frame.DataFrame'>\n",
            "Index: 9367 entries, 0 to 10182\n",
            "Data columns (total 7 columns):\n",
            " #   Column          Non-Null Count  Dtype  \n",
            "---  ------          --------------  -----  \n",
            " 0   title           9367 non-null   object \n",
            " 1   vote_average    9367 non-null   float64\n",
            " 2   vote_count      9367 non-null   int64  \n",
            " 3   overview        9367 non-null   object \n",
            " 4   genres          9367 non-null   object \n",
            " 5   runtime         9367 non-null   int64  \n",
            " 6   similar_movies  9367 non-null   object \n",
            "dtypes: float64(1), int64(2), object(4)\n",
            "memory usage: 585.4+ KB\n"
          ]
<<<<<<< HEAD
        },
        {
          "output_type": "display_data",
          "data": {
            "text/plain": [
              "None"
            ]
          },
          "metadata": {}
=======
>>>>>>> 6253581 (:wrench: build: mudança na base de dados e no model Movie)
        }
      ]
    },
    {
      "cell_type": "code",
      "source": [
        "df.to_csv('movies.csv')"
      ],
      "metadata": {
<<<<<<< HEAD
        "id": "d0TpI0G2YZQA"
      },
      "execution_count": 61,
=======
        "id": "1NWUUjc_snwo"
      },
      "execution_count": 96,
>>>>>>> 6253581 (:wrench: build: mudança na base de dados e no model Movie)
=======
        "df[['title', 'similar_movies']].to_csv('movies.csv')"
      ],
      "metadata": {
        "id": "A9wwYS533ezt"
      },
      "execution_count": 52,
>>>>>>> 47d5486 (:wrench: build: obtendo os dados dos filmes e criando app Movies)
      "outputs": []
    }
  ],
  "metadata": {
    "colab": {
      "provenance": []
    },
    "kernelspec": {
      "display_name": "Python 3",
      "name": "python3"
    },
    "language_info": {
      "name": "python"
    }
  },
  "nbformat": 4,
  "nbformat_minor": 0
}